{
 "cells": [
  {
   "cell_type": "markdown",
   "metadata": {},
   "source": [
    "#### DATA :\n",
    "\n",
    "+ 2000 recordings/ 10 class\n",
    "+ Save at path = \"recordings\""
   ]
  },
  {
   "cell_type": "code",
   "execution_count": 1,
   "metadata": {},
   "outputs": [],
   "source": [
    "import numpy as np\n",
    "import matplotlib.pyplot as plt\n",
    "import os\n",
    "import sklearn\n",
    "import wave\n",
    "from sklearn.model_selection import train_test_split\n",
    "import librosa as lib"
   ]
  },
  {
   "cell_type": "code",
   "execution_count": 13,
   "metadata": {},
   "outputs": [],
   "source": [
    "data = []\n",
    "labels = []\n",
    "path = 'recordings'\n",
    "coef = 0\n",
    "count = 0\n",
    "for file_name in os.listdir(path):\n",
    "    count += 1\n",
    "    w,f = lib.core.load(os.path.join(path,file_name))\n",
    "    feature = np.mean(lib.feature.mfcc(y = w, sr= f,n_mfcc= 40).T, axis = 0)\n",
    "    data.append(feature)\n",
    "    labels.append(coef)\n",
    "    if(count % 200 == 0):\n",
    "        coef += 1"
   ]
  },
  {
   "cell_type": "code",
   "execution_count": 4,
   "metadata": {},
   "outputs": [
    {
     "name": "stdout",
     "output_type": "stream",
     "text": [
      "Number of voice datas:  (2000, 40)\n",
      "Shape of labels :  (2000,)\n",
      "Number of data train :  (1500, 40)\n",
      "Labels of data train :  (1500,)\n",
      "Number of data test :  (500, 40)\n",
      "Labels of data test :  (500,)\n"
     ]
    }
   ],
   "source": [
    "data = np.asanyarray(data)\n",
    "labels = np.asanyarray(labels)\n",
    "print(\"Number of voice datas: \",data.shape )\n",
    "print(\"Shape of labels : \", labels.shape)\n",
    "\n",
    "\n",
    "X_train, X_test, y_train, y_test = train_test_split(data, labels, test_size = 0.25)\n",
    "\n",
    "print(\"Number of data train : \", X_train.shape)\n",
    "print(\"Labels of data train : \", y_train.shape)\n",
    "print(\"Number of data test : \", X_test.shape)\n",
    "print(\"Labels of data test : \", y_test.shape)"
   ]
  },
  {
   "cell_type": "code",
   "execution_count": 13,
   "metadata": {},
   "outputs": [],
   "source": [
    "from sklearn.neural_network import MLPClassifier\n",
    "mlp = MLPClassifier(hidden_layer_sizes=(250,250,300),max_iter= 20000).fit(X_train, y_train)"
   ]
  },
  {
   "cell_type": "code",
   "execution_count": 14,
   "metadata": {},
   "outputs": [
    {
     "name": "stdout",
     "output_type": "stream",
     "text": [
      "Hieu qua mo hinh dat : 97.2\n"
     ]
    }
   ],
   "source": [
    "y_pre = mlp.predict(X_test)\n",
    "from sklearn.metrics import accuracy_score\n",
    "print(\"Hieu qua mo hinh dat :\", 100* accuracy_score(y_test, y_pre.tolist() ) )"
   ]
  },
  {
   "cell_type": "code",
   "execution_count": 15,
   "metadata": {},
   "outputs": [
    {
     "name": "stdout",
     "output_type": "stream",
     "text": [
      "Hieu qua mo hinh dat : 95.19999999999999\n"
     ]
    }
   ],
   "source": [
    "from sklearn.neural_network import MLPClassifier\n",
    "mlp1 = MLPClassifier(hidden_layer_sizes=(300,300,300),max_iter= 20000).fit(X_train, y_train)\n",
    "y_pre = mlp1.predict(X_test)\n",
    "from sklearn.metrics import accuracy_score\n",
    "print(\"Hieu qua mo hinh dat :\", 100* accuracy_score(y_test, y_pre.tolist() ) )"
   ]
  },
  {
   "cell_type": "markdown",
   "metadata": {},
   "source": [
    "Phát hiện các số được nói khi nói một dãy số:"
   ]
  },
  {
   "cell_type": "code",
   "execution_count": 16,
   "metadata": {},
   "outputs": [],
   "source": [
    "# SAVE MODEL \n",
    "import pickle\n",
    "file_name = \"model_MLP.sav\"\n",
    "pickle.dump(mlp, open(file_name, 'wb'))"
   ]
  },
  {
   "cell_type": "code",
   "execution_count": 2,
   "metadata": {},
   "outputs": [],
   "source": [
    "#load model\n",
    "import pickle\n",
    "file_name = \"model_MLP.sav\"\n",
    "mlp = pickle.load(open(file_name, 'rb'))"
   ]
  },
  {
   "cell_type": "code",
   "execution_count": 17,
   "metadata": {},
   "outputs": [
    {
     "name": "stdout",
     "output_type": "stream",
     "text": [
      "Hieu qua mo hinh dat : 97.2\n"
     ]
    }
   ],
   "source": [
    "y_pre = mlp.predict(X_test)\n",
    "from sklearn.metrics import accuracy_score\n",
    "print(\"Hieu qua mo hinh dat :\", 100* accuracy_score(y_test, y_pre.tolist() ) )"
   ]
  },
  {
   "cell_type": "code",
   "execution_count": 3,
   "metadata": {},
   "outputs": [],
   "source": [
    "path2 = 'file_mp3'\n",
    "for file_name in os.listdir(path2):\n",
    "    sound, f_sound = lib.core.load(os.path.join(path2, file_name))"
   ]
  },
  {
   "cell_type": "code",
   "execution_count": 47,
   "metadata": {},
   "outputs": [
    {
     "name": "stdout",
     "output_type": "stream",
     "text": [
      "Engry of 0.15:  [0.0, 9.4258474e-05, 0.00016822664, 0.00019899072, 0.00020500162, 0.0009458928, 0.0012716372, 0.00053559087, 0.00040796644, 0.0003995424, 0.000604836, 0.00048103815, 0.00033326918, 0.00059866655, 0.00124444, 0.001476106, 0.0014943916, 0.0009767382, 0.0005084163, 0.0011696683, 0.0012877949, 0.0007128729, 0.020980157, 0.08069508, 7.090887, 11.202526, 15.069609, 11.3773365, 10.310874, 4.3706193, 0.49096695, 0.0028221821, 0.0037126942, 3.9365952, 37.794983, 54.319736, 17.707539, 6.315042, 0.36618155, 0.0050117373, 0.029245516, 0.18499118, 3.725681, 4.877361, 3.0827408, 0.36101478, 0.003365292, 0.0006435408, 0.22680266, 4.0590825, 7.329992, 1.0010991, 0.50683177, 0.0063862517, 0.0010264728, 0.0009084638, 8.1658535, 25.267023, 25.6669, 5.7705207, 0.13481688, 0.002015217, 0.0010372831, 10.123291, 59.19854, 90.61711, 41.15404, 10.782955, 1.8481028, 0.014208645, 0.0021321194, 0.015629444, 1.449535, 5.1880827, 0.101645954, 0.059049897, 0.0015625301, 0.011098344, 0.06949293, 11.850426, 63.33114, 3.3066669, 6.602275, 4.4565315, 0.62359864, 0.005539935, 0.13115916, 5.898054, 5.047287, 1.0847206, 0.10720547, 0.011685453, 0.001114008, 0.03537013, 14.327859, 45.223404, 35.601265, 18.473736, 11.062042, 1.2223628, 0.007957657, 0.0022324484, 0.0006405578, 0.00040846944, 0.00065793557, 0.0006577921, 0.00061454216, 0.00059653446, 0.0005692178, 0.00031493045, 0.000303982, 0.00034234137, 0.00042487448, 0.00037071554, 0.0003861676, 0.0004206294, 0.0007360856, 0.0004197912]\n",
      "Mean engry :  6.101225\n",
      "1 0\n",
      "2 0\n",
      "3 0\n",
      "4 0\n",
      "5 2\n",
      "6 3\n",
      "7 1\n",
      "8 0\n",
      "9 0\n",
      "10 1\n",
      "11 1\n",
      "12 0\n",
      "13 1\n",
      "14 2\n",
      "15 3\n",
      "16 3\n",
      "17 2\n",
      "18 1\n",
      "19 2\n",
      "20 3\n",
      "21 1\n",
      "22 49\n",
      "23 192\n",
      "24 16891\n",
      "25 26685\n",
      "26 35897\n",
      "27 27102\n",
      "28 24561\n",
      "29 10411\n",
      "30 1169\n",
      "31 6\n",
      "32 8\n",
      "33 9377\n",
      "34 90032\n",
      "35 129397\n",
      "36 42181\n",
      "37 15043\n",
      "38 872\n",
      "39 11\n",
      "40 69\n",
      "41 440\n",
      "42 8875\n",
      "43 11618\n",
      "44 7343\n",
      "45 859\n",
      "46 8\n",
      "47 1\n",
      "48 540\n",
      "49 9669\n",
      "50 17461\n",
      "51 2384\n",
      "52 1207\n",
      "53 15\n",
      "54 2\n",
      "55 2\n",
      "56 19452\n",
      "57 60189\n",
      "58 61142\n",
      "59 13746\n",
      "60 321\n",
      "61 4\n",
      "62 2\n",
      "63 24115\n",
      "64 141019\n",
      "65 215862\n",
      "66 98034\n",
      "67 25686\n",
      "68 4402\n",
      "69 33\n",
      "70 5\n",
      "71 37\n",
      "72 3452\n",
      "73 12358\n",
      "74 242\n",
      "75 140\n",
      "76 3\n",
      "77 26\n",
      "78 165\n",
      "79 28229\n",
      "80 150863\n",
      "81 7876\n",
      "82 15727\n",
      "83 10616\n",
      "84 1485\n",
      "85 13\n",
      "86 312\n",
      "87 14049\n",
      "88 12023\n",
      "89 2583\n",
      "90 255\n",
      "91 27\n",
      "92 2\n",
      "93 84\n",
      "94 34130\n",
      "95 107728\n",
      "96 84807\n",
      "97 44006\n",
      "98 26351\n",
      "99 2911\n",
      "100 18\n",
      "101 5\n",
      "102 1\n",
      "103 0\n",
      "104 1\n",
      "105 1\n",
      "106 1\n",
      "107 1\n",
      "108 1\n",
      "109 0\n",
      "110 0\n",
      "111 0\n",
      "112 1\n",
      "113 0\n",
      "114 0\n",
      "115 1\n",
      "116 1\n",
      "117 1\n",
      "1.4700000000000002 2.0300000000000002\n",
      "2.24 2.5900000000000003\n",
      "2.7300000000000004 3.08\n",
      "3.2900000000000005 3.5700000000000003\n",
      "3.8500000000000005 4.130000000000001\n",
      "4.340000000000001 4.760000000000001\n",
      "4.9 5.180000000000001\n",
      "5.32 5.8100000000000005\n",
      "5.95 6.300000000000001\n",
      "6.44 6.930000000000001\n",
      "Number of shot voice cuted :  10\n"
     ]
    }
   ],
   "source": [
    "stride = int(0.07 * f_sound)\n",
    "pos = 0\n",
    "engry = []\n",
    "before = True\n",
    "after = False\n",
    "shot_voice = []\n",
    "while pos < sound.shape[0]:\n",
    "    \n",
    "    temp = sound[pos : pos+ stride]\n",
    "    engry.append(np.mean(np.sum(temp ** 2)))\n",
    "    pos = pos + stride \n",
    "    if pos > sound.shape[0]:\n",
    "        break\n",
    "    #temp_after = sound[pos : pos+ stride] \n",
    "print(\"Engry of 0.15: \", engry)    \n",
    "print(\"Mean engry : \", np.mean(engry)) \n",
    "coef  = []\n",
    "confirn = False\n",
    "st = 0\n",
    "en = 0\n",
    "for i in range(1, len(engry)):\n",
    "    coef_temp = int(engry[i] / engry[-1] )\n",
    "    print(i, coef_temp)\n",
    "    coef.append(coef_temp)\n",
    "count = 0\n",
    "for i in range(len(coef)):\n",
    "    if coef[i] > 15:\n",
    "        count += 1\n",
    "    elif count > 1: \n",
    "        st = (i - count) * 0.07\n",
    "        en = (i - 1) * 0.07\n",
    "        print(st, en)\n",
    "        st = int(st * f_sound)\n",
    "        en = int(en * f_sound)\n",
    "        shot_voice.append(sound[st:en])\n",
    "        count = 0\n",
    "print(\"Number of shot voice cuted : \", len(shot_voice))"
   ]
  },
  {
   "cell_type": "code",
   "execution_count": 48,
   "metadata": {},
   "outputs": [
    {
     "name": "stdout",
     "output_type": "stream",
     "text": [
      "[4 4 4 0 4 5 5 4 8 5]\n",
      "Hieu qua mo hinh dat :  30.0 %\n"
     ]
    }
   ],
   "source": [
    "shot_voice = np.asanyarray(shot_voice)\n",
    "X_test = []\n",
    "y_test = np.array([0,1,2,3,4,5,6,7,8,9])\n",
    "for i in shot_voice:\n",
    "    feature = np.mean(lib.feature.mfcc(y = i, sr= f_sound,n_mfcc= 40).T, axis = 0)\n",
    "    X_test.append(feature)\n",
    "X_test = np.asanyarray(X_test)\n",
    "y_pre = mlp.predict(X_test)\n",
    "print(y_pre)\n",
    "from sklearn.metrics import accuracy_score\n",
    "print(\"Hieu qua mo hinh dat : \", 100* accuracy_score(y_test, y_pre.tolist() ),\"%\" )"
   ]
  },
  {
   "cell_type": "code",
   "execution_count": null,
   "metadata": {},
   "outputs": [],
   "source": []
  }
 ],
 "metadata": {
  "kernelspec": {
   "display_name": "Python 3",
   "language": "python",
   "name": "python3"
  },
  "language_info": {
   "codemirror_mode": {
    "name": "ipython",
    "version": 3
   },
   "file_extension": ".py",
   "mimetype": "text/x-python",
   "name": "python",
   "nbconvert_exporter": "python",
   "pygments_lexer": "ipython3",
   "version": "3.6.7"
  }
 },
 "nbformat": 4,
 "nbformat_minor": 2
}
