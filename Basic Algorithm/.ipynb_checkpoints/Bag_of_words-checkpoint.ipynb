{
 "cells": [
  {
   "cell_type": "markdown",
   "metadata": {},
   "source": [
    "Để làm việc mới học máy dữ liệu là text chúng ta cần kĩ thuật trích đặc trưng. Bởi lẽ phải cần có kĩ nghệ này do dữ liệu văn bản cho chúng ta vô vàn thông tin, và điểu đó chúng ta muốn thống kê và sử dụng chúng, tối ưu hóa một số công đoạn trong doanh nghiệp. Vậy nên chúng ta mới cần làm việc với text trong học máy, nhưng khác với ảnh text dữ liệu thô thì máy sẽ không hiểu được vậy nên ta cần phải biểu diễn sang vector số học đặc trưng để có thể áp dụng các thuật toán học máy cho các bài toán sau nay."
   ]
  },
  {
   "cell_type": "markdown",
   "metadata": {},
   "source": [
    "### Bag of word\n",
    "\n",
    "Baf of word là kĩ thuật trích đặc trưng cơ bản và hiệu quả trong một số trường hợp. Nó dựa trên việc đếm số lần xuất hiện của mỗi từ trên một tập các từ đã được định nghĩa sẵn .\n",
    "\n",
    "Ngoài việc chỉ đếm một từ nta còn ghép các cặp từ lại với nhau nữa để tăng tính hiệu quả và liền mạch về ý nghĩa câu. Để hiểu rõ hơn có thể quan sát ví dụ bên dưới."
   ]
  },
  {
   "cell_type": "code",
   "execution_count": 22,
   "metadata": {},
   "outputs": [],
   "source": [
    "import numpy as np \n",
    "from sklearn.feature_extraction.text import CountVectorizer  \n",
    "from sklearn.feature_extraction.text import TfidfVectorizer "
   ]
  },
  {
   "cell_type": "code",
   "execution_count": 16,
   "metadata": {},
   "outputs": [],
   "source": [
    "text = np.array([\"How to learn code better and better\", \n",
    "                 \"If i have many money, i will buy smartphones\",\n",
    "                 \"Last year, i went to SamSon beach with my family\",\n",
    "                 \"SamSon is a good place to dicovery at ThanhHoa\"])\n"
   ]
  },
  {
   "cell_type": "code",
   "execution_count": 20,
   "metadata": {},
   "outputs": [
    {
     "name": "stdout",
     "output_type": "stream",
     "text": [
      "['a', 'a good', 'and', 'and better', 'at', 'at thanhhoa', 'beach', 'beach with', 'better', 'better and', 'buy', 'buy smartphones', 'code', 'code better', 'dicovery', 'dicovery at', 'family', 'good', 'good place', 'have', 'have many', 'how', 'how to', 'i', 'i have', 'i went', 'i will', 'if', 'if i', 'is', 'is a', 'last', 'last year', 'learn', 'learn code', 'many', 'many money', 'money', 'money i', 'my', 'my family', 'place', 'place to', 'samson', 'samson beach', 'samson is', 'smartphones', 'thanhhoa', 'to', 'to dicovery', 'to learn', 'to samson', 'went', 'went to', 'will', 'will buy', 'with', 'with my', 'year', 'year i']\n",
      "[[0 0 1 1 0 0 0 0 2 1 0 0 1 1 0 0 0 0 0 0 0 1 1 0 0 0 0 0 0 0 0 0 0 1 1 0\n",
      "  0 0 0 0 0 0 0 0 0 0 0 0 1 0 1 0 0 0 0 0 0 0 0 0]\n",
      " [0 0 0 0 0 0 0 0 0 0 1 1 0 0 0 0 0 0 0 1 1 0 0 2 1 0 1 1 1 0 0 0 0 0 0 1\n",
      "  1 1 1 0 0 0 0 0 0 0 1 0 0 0 0 0 0 0 1 1 0 0 0 0]\n",
      " [0 0 0 0 0 0 1 1 0 0 0 0 0 0 0 0 1 0 0 0 0 0 0 1 0 1 0 0 0 0 0 1 1 0 0 0\n",
      "  0 0 0 1 1 0 0 1 1 0 0 0 1 0 0 1 1 1 0 0 1 1 1 1]\n",
      " [1 1 0 0 1 1 0 0 0 0 0 0 0 0 1 1 0 1 1 0 0 0 0 0 0 0 0 0 0 1 1 0 0 0 0 0\n",
      "  0 0 0 0 0 1 1 1 0 1 0 1 1 1 0 0 0 0 0 0 0 0 0 0]]\n"
     ]
    }
   ],
   "source": [
    "bag_of_Word = CountVectorizer( ngram_range= (1,2) , token_pattern='(?u)\\\\b\\\\w+\\\\b')\n",
    "X = bag_of_Word.fit_transform(text)\n",
    "print(bag_of_Word.get_feature_names())\n",
    "print(X.toarray())"
   ]
  },
  {
   "cell_type": "markdown",
   "metadata": {},
   "source": [
    "Ta thấy sau khi sử dụng extract bag of word tạo ra các vector thưa mà có nhiều từ xuất hiện nhưng không mang ý nghĩa như là a, and , to ... Nên chúng ta thử dùng với cải tiến của bag of word là TF-IDF"
   ]
  },
  {
   "cell_type": "code",
   "execution_count": 25,
   "metadata": {},
   "outputs": [
    {
     "name": "stdout",
     "output_type": "stream",
     "text": [
      "60\n",
      "['a', 'a good', 'and', 'and better', 'at', 'at thanhhoa', 'beach', 'beach with', 'better', 'better and', 'buy', 'buy smartphones', 'code', 'code better', 'dicovery', 'dicovery at', 'family', 'good', 'good place', 'have', 'have many', 'how', 'how to', 'i', 'i have', 'i went', 'i will', 'if', 'if i', 'is', 'is a', 'last', 'last year', 'learn', 'learn code', 'many', 'many money', 'money', 'money i', 'my', 'my family', 'place', 'place to', 'samson', 'samson beach', 'samson is', 'smartphones', 'thanhhoa', 'to', 'to dicovery', 'to learn', 'to samson', 'went', 'went to', 'will', 'will buy', 'with', 'with my', 'year', 'year i']\n",
      "[0.         0.         0.26345536 0.26345536 0.         0.\n",
      " 0.         0.         0.52691072 0.26345536 0.         0.\n",
      " 0.26345536 0.26345536 0.         0.         0.         0.\n",
      " 0.         0.         0.         0.26345536 0.26345536 0.\n",
      " 0.         0.         0.         0.         0.         0.\n",
      " 0.         0.         0.         0.26345536 0.26345536 0.\n",
      " 0.         0.         0.         0.         0.         0.\n",
      " 0.         0.         0.         0.         0.         0.\n",
      " 0.16816014 0.         0.26345536 0.         0.         0.\n",
      " 0.         0.         0.         0.         0.         0.        ]\n"
     ]
    }
   ],
   "source": [
    "tf_idf = TfidfVectorizer( ngram_range= (1,2) , token_pattern='(?u)\\\\b\\\\w+\\\\b')\n",
    "X = tf_idf.fit_transform(text)\n",
    "print(len(tf_idf.get_feature_names()))\n",
    "print(tf_idf.get_feature_names())\n",
    "print(X.toarray()[0])"
   ]
  },
  {
   "cell_type": "markdown",
   "metadata": {},
   "source": [
    "ý nghĩa của TF-IDF là loại bỏ các từ mà ít thông tin đi bằng việc sử dụng công thức sau: tf * idf\n",
    "\n",
    "IF : $ if(i,d) = \\frac{ f(i)}{ n(d) }$\n",
    "\n",
    "Trong đó:\n",
    " + f(i) là số lần xuất hiện của từ i trong đoạn văn bản d\n",
    " + n(d) là số từ trong đoạn văn bản d\n",
    " \n",
    " "
   ]
  },
  {
   "cell_type": "markdown",
   "metadata": {},
   "source": [
    "IDF: $ idf = log( \\frac{N}{dft_i})$\n",
    "\n",
    "Trong đó : \n",
    " + N là số đoạn văn bản \n",
    " + dft số đoạn văn bản có chứa từ i"
   ]
  },
  {
   "cell_type": "code",
   "execution_count": null,
   "metadata": {},
   "outputs": [],
   "source": []
  }
 ],
 "metadata": {
  "kernelspec": {
   "display_name": "Python 3",
   "language": "python",
   "name": "python3"
  },
  "language_info": {
   "codemirror_mode": {
    "name": "ipython",
    "version": 3
   },
   "file_extension": ".py",
   "mimetype": "text/x-python",
   "name": "python",
   "nbconvert_exporter": "python",
   "pygments_lexer": "ipython3",
   "version": "3.6.7"
  }
 },
 "nbformat": 4,
 "nbformat_minor": 2
}
