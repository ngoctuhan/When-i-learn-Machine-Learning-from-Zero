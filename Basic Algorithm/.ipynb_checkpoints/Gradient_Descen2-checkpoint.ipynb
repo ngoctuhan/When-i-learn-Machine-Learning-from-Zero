{
 "cells": [
  {
   "cell_type": "markdown",
   "metadata": {},
   "source": [
    "# Các thuật toán tối ưu GD \n",
    "1. Momentum\n",
    "    ý tưởng thuật toán:\n",
    "https://machinelearningcoban.com/2017/01/16/gradientdescent2/ Hình 1.\n",
    "Thuật toán GD thường được ví với tác dụng của trọng lực lên một hòn bi đặt trên một mặt có dạng như hình một thung lũng giống như hình 1a) dưới đây. Bất kể ta đặt hòn bi ở A hay B thì cuối cùng hòn bi cũng sẽ lăn xuống và kết thúc ở vị trí C. \n",
    "\n",
    "Tuy nhiên, nếu như bề mặt có hai đáy thung lũng như Hình 1b) thì tùy vào việc đặt bi ở A hay B, vị trí cuối cùng của bi sẽ ở C hoặc D. Điểm D là một điểm local minimum chúng ta không mong muốn.\n",
    "\n",
    "Nếu suy nghĩ một cách vật lý hơn, vẫn trong Hình 1b), nếu vận tốc ban đầu của bi khi ở điểm B đủ lớn, khi bi lăn đến điểm D, theo đà, bi có thể tiếp tục di chuyển lên dốc phía bên trái của D. Và nếu giả sử vận tốc ban đầu lớn hơn nữa, bi có thể vượt dốc tới điểm E rồi lăn xuống C như trong Hình 1c). Đây chính là điều chúng ta mong muốn. Bạn đọc có thể đặt câu hỏi rằng liệu bi lăn từ A tới C có theo đà lăn tới E rồi tới D không. Xin trả lời rằng điều này khó xảy ra hơn vì nếu so với dốc DE thì dốc CE cao hơn nhiều.\n",
    "\n",
    "Dựa trên hiện tượng này, một thuật toán được ra đời nhằm khắc phục việc nghiệm của GD rơi vào một điểm local minimum không mong muốn. Thuật toán đó có tên là Momentum (tức theo đà trong tiếng Việt)."
   ]
  },
  {
   "cell_type": "markdown",
   "metadata": {},
   "source": [
    "Áp dụng cho bài toán sau bằng thuật toán Gradient Descent with Momentum.\n",
    "    f(x) = x**2 + 10 sin(x) \n",
    "Đạo hàm của hàm số trên:\n",
    "    f'(x) = 2*x + 10cos(x)\n",
    "Pt f'(x) = 0 có hai nghiệm => có 2 điểm cực trị\n",
    "Trên đồ thị giả sử vị trí ban đầu là theta "
   ]
  },
  {
   "cell_type": "code",
   "execution_count": 17,
   "metadata": {},
   "outputs": [
    {
     "name": "stdout",
     "output_type": "stream",
     "text": [
      "So lan thuc hien :  147\n",
      "Kết quả tìm được là :  -1.3052960616776899\n"
     ]
    },
    {
     "data": {
      "image/png": "[encoded data removed]",
      "text/plain": [
       "<Figure size 432x288 with 1 Axes>"
      ]
     },
     "metadata": {
      "needs_background": "light"
     },
     "output_type": "display_data"
    }
   ],
   "source": [
    "import numpy as np\n",
    "import matplotlib.pyplot as plt\n",
    "# Đạo hàm của hàm số tại một điểm\n",
    "\n",
    "def grad(x):\n",
    "    return 2*x + 10* np.cos(x)\n",
    "def cost(x):\n",
    "    return x**2 + 10 *np.sin(x)\n",
    "def has_converged(theta_new):\n",
    "    return grad(theta_new)  < 1e-3\n",
    "\n",
    "def GD_momentum(theta_init, eta, gama):\n",
    "    theta = [theta_init]\n",
    "    v = 0\n",
    "    # v đại lượng đặc trưng cho đà và độ dốc nên ta có\n",
    "    # vs = gama * vt + eta * grad(theta)\n",
    "    for i in range(500):  \n",
    "        v_new = gama * v + eta * grad(theta[-1])\n",
    "        # nprint(v_new)\n",
    "        theta_new = theta[-1] - v_new\n",
    "        # print(theta_new)\n",
    "        if abs(grad(theta_new)) < 1e-3:\n",
    "            break\n",
    "        theta.append(theta_new)\n",
    "        v = v_new\n",
    "        \n",
    "    print(\"So lan thuc hien : \", i)\n",
    "    return theta\n",
    "v = GD_momentum(5,0.1,0.9)\n",
    "print(\"Kết quả tìm được là : \" ,v[-1])\n",
    "for x in v:\n",
    "    plt.plot(x, cost(x), \"ro\" )\n",
    "plt.show()"
   ]
  },
  {
   "cell_type": "raw",
   "metadata": {},
   "source": [
    "Áp dụng cho với bài GD_M cho hàm nhiều biến cho bài Hồi quy tuyến tính.\n",
    "BMI = x2*w + x1*h + xo\n",
    "Đặt p = [w, h, 1]\n",
    "x = [x2, x1, x0]\n",
    "Sai số dự đoán trên tập dữ liêu N.\n",
    "    1/2 * ||(y_r - p * x.T)||2 ( Nhân vs 1/2 để khi đạo hàm sẽ làm mất đi hệ số phía trước) \n",
    "Đạo hàm của hàm sai số dự đoán theo x:\n",
    "    p.T * (p* x.T - y_r)\n",
    "Đạo hàm sai số trung bình:\n",
    "    (p.T * (p * x.T - y_r)) / N"
   ]
  },
  {
   "cell_type": "code",
   "execution_count": 28,
   "metadata": {},
   "outputs": [
    {
     "name": "stdout",
     "output_type": "stream",
     "text": [
      "Chỉ số BMI được chuẩn là : \n",
      "[22.67573696 22.22222222 21.78649237 21.63114885 21.8299522  21.67125803\n",
      " 21.2585034  21.4532872  21.0498179  20.89795918 20.83070319 20.67901235\n",
      " 20.30517483]\n",
      "Tap diem du lieu \n",
      " [[147.  49.   1.]\n",
      " [150.  50.   1.]\n",
      " [153.  51.   1.]\n",
      " [158.  54.   1.]\n",
      " [163.  58.   1.]\n",
      " [165.  59.   1.]\n",
      " [168.  60.   1.]\n",
      " [170.  62.   1.]\n",
      " [173.  63.   1.]\n",
      " [175.  64.   1.]\n",
      " [178.  66.   1.]\n",
      " [180.  67.   1.]\n",
      " [183.  68.   1.]]\n",
      "(3, 13)\n",
      "Ket qua tim duoc :  [[nan nan nan nan nan nan nan nan nan nan nan nan nan]\n",
      " [nan nan nan nan nan nan nan nan nan nan nan nan nan]\n",
      " [nan nan nan nan nan nan nan nan nan nan nan nan nan]]\n"
     ]
    },
    {
     "name": "stderr",
     "output_type": "stream",
     "text": [
      "C:\\Users\\trung\\Anaconda3\\lib\\site-packages\\ipykernel_launcher.py:39: RuntimeWarning: invalid value encountered in subtract\n"
     ]
    }
   ],
   "source": [
    "from __future__ import division, unicode_literals, print_function\n",
    "import numpy as np\n",
    "import matplotlib.pyplot as plt\n",
    "\n",
    "#creat data\n",
    "height = np.array([[147, 150, 153, 158, 163, 165, 168, 170, 173, 175, 178, 180, 183]])\n",
    "weight = np.array([[ 49, 50, 51,  54, 58, 59, 60, 62, 63, 64, 66, 67, 68]])\n",
    "\n",
    "def BMI_rule(h,w):\n",
    "    bmi = []\n",
    "    for i in range(13):\n",
    "        wei = w[0][i]\n",
    "        k = h[0][i]**2\n",
    "        bmi.append(float(wei/k))\n",
    "    bmi = np.asarray(bmi)\n",
    "    bmi = bmi * 10000\n",
    "    return bmi\n",
    "bmi = BMI_rule(height,weight)\n",
    "print(\"Chỉ số BMI được chuẩn là : \\n{}\".format(bmi))   \n",
    "\n",
    "height = height.T\n",
    "weight = weight.T\n",
    "one = np.ones((height.shape[0], 1))\n",
    "X = np.concatenate((height, weight), axis = 1)\n",
    "X = np.concatenate((X,one),axis = 1)\n",
    "print (\"Tap diem du lieu \\n\", X)\n",
    "\n",
    "# ----------------------------------------------------------------------\n",
    "\n",
    "def grad(w,X,y): # giá trị đạo hàm hàm mất mát tại w\n",
    "    N = X.shape[0]\n",
    "    return 1/N * (X.T.dot( X.dot(w) - y ))\n",
    "def GD_with_M(w_init, eta, gama, X, bmi):\n",
    "    w = [w_init]\n",
    "    v = np.zeros_like(w_init)\n",
    "    for i in range (300):\n",
    "        \n",
    "        v_new = gama*v + eta* grad(w[-1], X, bmi)\n",
    "        w_new = w[-1] - v_new\n",
    "        if np.linalg.norm( grad(w_new, X, bmi) ) / len(w_new) < 1e-3:\n",
    "            break\n",
    "        w.append(w_new)\n",
    "    return w\n",
    "w_init = np.array([[0],[0],[40]])\n",
    "print(grad(w_init, X, bmi).shape)\n",
    "\n",
    "w = GD_with_M(w_init, 0.1,0.9,X, bmi)\n",
    "\n",
    "print(\"Ket qua tim duoc : \", w[-1])"
   ]
  },
  {
   "cell_type": "markdown",
   "metadata": {},
   "source": [
    "# Kết lận: GDM\n",
    "\n",
    "Vị trí sau mỗi lần cập nhật w_new  = w  - v\n",
    "Đại lượng v này cần được đặc trưng cho vận tốc( tứ là đà) và độ dốc cách biểu diễn nó đơn giản nhất\n",
    "v =  gama * v_truoc + eta * f'(w)\n",
    "v = gama * đà  + eta * độ đốc (thông thường gama = 0.9) \n"
   ]
  },
  {
   "cell_type": "markdown",
   "metadata": {},
   "source": [
    "2.Nesterov accelerated gradient (NAG)\n",
    "\n",
    "Ta thấy với tác dụng của đà thì khi gần đến điểm tối ưu thuật toán GD_M thường phải mất khá nhiều gần nữa mới ổ định. Nên để giảm số lần thực hiện thì thuật toán NAG ra đời.\n",
    "\n",
    "Ý tưởng của thuật toán: \n",
    "    Dự đoán hướng đi tương lai. Dùng tham số momentum v_t-1 * gama ta cập nhật vị trí tiếp theo w ~ w - gama * v_t-1\n",
    "và NAG thay vì dùng GD của điểm hiện tại nó dùng GD của điểm tiếp theo\n",
    "\n",
    "Áp dụng cho bài toán sau bằng thuật toán Gradient Descent with Momentum.\n",
    "    f(x) = x**2 + 10 sin(x) \n",
    "Đạo hàm của hàm số trên:\n",
    "    f'(x) = 2*x + 10cos(x)\n",
    "Pt f'(x) = 0 có hai nghiệm => có 2 điểm cực trị\n",
    "Trên đồ thị giả sử vị trí ban đầu là theta \n",
    "gama = 0.9 , eta = 0.1 như GD_M để ta so sánh"
   ]
  },
  {
   "cell_type": "code",
   "execution_count": 11,
   "metadata": {},
   "outputs": [
    {
     "name": "stdout",
     "output_type": "stream",
     "text": [
      "So lan thuc hien :  19\n",
      "Ket qua tim dc la :  -1.3063424342771084\n"
     ]
    },
    {
     "data": {
      "image/png": "[encoded data removed]",
      "text/plain": [
       "<Figure size 432x288 with 1 Axes>"
      ]
     },
     "metadata": {
      "needs_background": "light"
     },
     "output_type": "display_data"
    }
   ],
   "source": [
    "from __future__ import division, print_function, unicode_literals\n",
    "import numpy as np\n",
    "import matplotlib.pyplot as plt\n",
    "# Đạo hàm của hàm số tại một điểm\n",
    "\n",
    "def grad(x):\n",
    "    return 2*x + 10* np.cos(x)\n",
    "def cost(x):\n",
    "    return x**2 + 10 *np.sin(x)\n",
    "def has_converged(theta_new):\n",
    "    return grad(theta_new)  < 1e-3\n",
    "def my_NAG(w_init, gama, eta):\n",
    "    w = [w_init]\n",
    "    v = 0\n",
    "    for i in range(150):\n",
    "        v_new = gama * v + eta * grad( w[-1] -  gama * v)\n",
    "        w_new = w[-1] - v_new\n",
    "        if np.abs( grad(w_new) ) < 1e-3:\n",
    "            break\n",
    "        v = v_new\n",
    "        w.append(w_new)\n",
    "    print(\"So lan thuc hien : \", i)\n",
    "    return w\n",
    "v = my_NAG(5,0.9,0.1)\n",
    "print(\"Ket qua tim dc la : \", v[-1])\n",
    "res = v[-1]\n",
    "v = v[:-2]\n",
    "for x in v:\n",
    "    plt.plot(x, cost(x), \"ro\" )\n",
    "plt.plot(res, cost(res), \"b^\")\n",
    "plt.show()\n",
    "    "
   ]
  },
  {
   "cell_type": "markdown",
   "metadata": {},
   "source": [
    "# Kết luận thuật toán:\n",
    "Vị trí sau mỗi lần cập nhật w_new  = w  - v\n",
    "Đại lượng v này cần được đặc trưng cho vận tốc( tứ là đà) và độ dốc của điểm tiếp theo cách biểu diễn nó đơn giản nhất\n",
    "v =  gama * v_truoc + eta * f'(w - gama - v_truoc)\n",
    "v = gama * đà  + eta * độ đốc (thông thường gama = 0.9) \n"
   ]
  },
  {
   "cell_type": "markdown",
   "metadata": {},
   "source": [
    "3. Các biến thể của GD\n",
    "    3.1 Stochastic Gradient Descent ( SGD)\n",
    "    Như thuật toán GD trước ta sử dụng toàn bộ dữ liệu để cập nhật được vị trí mới việc đó là khá cồng kềnh nếu như dữ liệu lớn đến vài tỉ.\n",
    "Thay vì đó ta chỉ cần tính giá trị mất mát của một điểm dữ liệu và ta cập nhật vị trí tiếp theo ( bài hồi quy tuyến tính )\n",
    "Mỗi lần duyệt một lượt qua tất cả các điểm trên toàn bộ dữ liệu được gọi là một epoch. Với GD thông thường thì mỗi epoch ứng với 1 lần cập nhật θ, với SGD thì mỗi epoch ứng với N lần cập nhật θ với Nlà số điểm dữ liệu. Nhìn vào một mặt, việc cập nhật từng điểm một như thế này có thể làm giảm đi tốc độ thực hiện 1 epoch. Nhưng nhìn vào một mặt khác, SGD chỉ yêu cầu một lượng epoch rất nhỏ (thường là 10 cho lần đầu tiên, sau đó khi có dữ liệu mới thì chỉ cần chạy dưới một epoch là đã có nghiệm tốt).\n",
    "\n",
    "Thứ tự lựa chọn điểm dữ liệu trong một epoch : ngẫu nhiên ảnh hưởng đến hiệu năng của thuật toán nếu chọn lựa được thứ tự dữ liệu tốt trong mỗi epoch:\n",
    "\n",
    "Quy tắc cập nhât :\n",
    "    w_t+1 = w_t - eta * f' ( w, xi, yi)\n",
    "áp dụng SGD cho bài toán hồi quy tuyến tính bên trên : cho biết chiều cao cần nặng tìm BMI ( giả sử không biết công thức ) "
   ]
  },
  {
   "cell_type": "code",
   "execution_count": 59,
   "metadata": {},
   "outputs": [
    {
     "name": "stdout",
     "output_type": "stream",
     "text": [
      "Tap diem du lieu \n",
      " [[ 1.47 49.    1.  ]\n",
      " [ 1.5  50.    1.  ]\n",
      " [ 1.53 51.    1.  ]\n",
      " [ 1.58 54.    1.  ]\n",
      " [ 1.63 58.    1.  ]\n",
      " [ 1.65 59.    1.  ]\n",
      " [ 1.68 60.    1.  ]\n",
      " [ 1.7  62.    1.  ]\n",
      " [ 1.73 63.    1.  ]\n",
      " [ 1.75 64.    1.  ]\n",
      " [ 1.78 66.    1.  ]\n",
      " [ 1.8  67.    1.  ]\n",
      " [ 1.83 68.    1.  ]]\n",
      "Chỉ số BMI được chuẩn là : \n",
      "[[22.67573696]\n",
      " [22.22222222]\n",
      " [21.78649237]\n",
      " [21.63114885]\n",
      " [21.8299522 ]\n",
      " [21.67125803]\n",
      " [21.2585034 ]\n",
      " [21.4532872 ]\n",
      " [21.0498179 ]\n",
      " [20.89795918]\n",
      " [20.83070319]\n",
      " [20.67901235]\n",
      " [20.30517483]]\n"
     ]
    },
    {
     "name": "stderr",
     "output_type": "stream",
     "text": [
      "C:\\Users\\trung\\Anaconda3\\lib\\site-packages\\ipykernel_launcher.py:31: RuntimeWarning: invalid value encountered in subtract\n"
     ]
    }
   ],
   "source": [
    "from __future__ import division, unicode_literals, print_function\n",
    "import numpy as np\n",
    "import matplotlib.pyplot as plt\n",
    "\n",
    "#creat data  XAY DUNG DU LIEU --------------------------------------------------------------------------\n",
    "\n",
    "height = np.array([[147, 150, 153, 158, 163, 165, 168, 170, 173, 175, 178, 180, 183]])\n",
    "weight = np.array([[ 49, 50, 51,  54, 58, 59, 60, 62, 63, 64, 66, 67, 68]])\n",
    "height = height / 100\n",
    "bmi = np.array(weight/(height**2))\n",
    "\n",
    "height = height.T\n",
    "weight = weight.T\n",
    "one = np.ones((height.shape[0], 1))\n",
    "X = np.concatenate((height, weight), axis = 1)\n",
    "X = np.concatenate((X,one),axis = 1)\n",
    "print (\"Tap diem du lieu \\n\", X)\n",
    "bmi = bmi.T \n",
    "print(\"Chỉ số BMI được chuẩn là : \\n{}\".format(bmi))   \n",
    "# --------------------------------------------------------------------------\n",
    "\n",
    "def sgrad(w, xi, yi):\n",
    "    return xi.T.dot(xi.dot(w) - yi)\n",
    "def my_SGD(w_init, eta):\n",
    "    w = [w_init]\n",
    "    for sl in range(10):\n",
    "        tt = np.random.permutation(X.shape[0])\n",
    "        for i in range(X.shape[0]):\n",
    "            data = np.array([X[tt[i],:]])\n",
    "            label = np.array([bmi[tt[i], :]])\n",
    "            w_new  = w[-1] - eta * sgrad(w[-1], data, label)\n",
    "            if np.linalg.norm(w_new - w[-1])/ len(w_init) < 1e-3:\n",
    "                break\n",
    "            w.append(w_new)\n",
    "    return w\n",
    "#kq hqtt  [-0.26968763  0.38566135 43.40620922]\n",
    "w_init = np.array([ [1], [2], [3] ])\n",
    "w = my_SGD(w_init, 1)\n"
   ]
  },
  {
   "cell_type": "code",
   "execution_count": 58,
   "metadata": {},
   "outputs": [
    {
     "name": "stdout",
     "output_type": "stream",
     "text": [
      "[[4.07305993]\n",
      " [3.05673796]]\n",
      "826\n"
     ]
    }
   ],
   "source": [
    "import numpy as np\n",
    "X = np.random.rand(100, 1)\n",
    "y = 4 + 3 * X + .2*np.random.randn(100, 1) # noise added\n",
    "one = np.ones((X.shape[0],1))\n",
    "X = np.concatenate((one, X), axis = 1)\n",
    "\n",
    "def sgrad(w, xi, yi):\n",
    "    return xi.T.dot(xi.dot(w) - yi)\n",
    "def my_SGD(w_init, eta):\n",
    "    w = [w_init]\n",
    "    for sl in range(10):\n",
    "        tt = np.random.permutation(X.shape[0])\n",
    "        for i in range(X.shape[0]):\n",
    "            data = np.array([X[tt[i],:]])\n",
    "            label = np.array([y[tt[i], :]])\n",
    "            w_new  = w[-1] - eta * sgrad(w[-1], data, label)\n",
    "            if np.linalg.norm(w_new - w[-1])/ len(w_init) < 1e-3:\n",
    "                break\n",
    "            w.append(w_new)\n",
    "    return w\n",
    "\n",
    "w_init = np.array([[2], [1]])\n",
    "w = my_SGD(w_init, 0.9)\n",
    "print(w[-1])\n",
    "print(len(w))"
   ]
  },
  {
   "cell_type": "markdown",
   "metadata": {},
   "source": [
    "    3.2 Mini-batch Gradient Descent\n",
    "Tương tự như là thuật toán SGD nhưng mà mỗi epouch thì bây h chúng ta lấy ra n điểm n << N và cập nhật vị trí tiếp theo"
   ]
  },
  {
   "cell_type": "code",
   "execution_count": 79,
   "metadata": {},
   "outputs": [
    {
     "name": "stdout",
     "output_type": "stream",
     "text": [
      "[[nan]\n",
      " [nan]]\n"
     ]
    },
    {
     "name": "stderr",
     "output_type": "stream",
     "text": [
      "C:\\Users\\trung\\Anaconda3\\lib\\site-packages\\ipykernel_launcher.py:19: RuntimeWarning: invalid value encountered in subtract\n"
     ]
    }
   ],
   "source": [
    "import numpy as np\n",
    "X = np.random.rand(1000, 1)\n",
    "y = 4 + 3 * X + .2*np.random.randn(1000, 1) # noise added\n",
    "one = np.ones((X.shape[0],1))\n",
    "X = np.concatenate((one, X), axis = 1)\n",
    "\n",
    "def sgrad(w, xi, yi):\n",
    "    return xi.T.dot(xi.dot(w) - yi)\n",
    "\n",
    "def my_MGD(w_init, eta):\n",
    "    w = [w_init]\n",
    "    for sl in range(1000):\n",
    "        n = 50\n",
    "        tt = []\n",
    "        for i in range(n):\n",
    "            tt.append(np.random.randint(0, X.shape[0] ))\n",
    "        data = np.array(X[tt ,:])\n",
    "        label = np.array(y[tt , :])\n",
    "        w_new  = w[-1] - eta * sgrad(w[-1], data, label) # sau khi tru di nhieu so qua le nen tran bo nho\n",
    "        # print(w_new) can có một cách nào đó làm tròn kết quả mình tính ra\n",
    "        \n",
    "        if np.linalg.norm(w_new - w[-1])/ len(w_init) < 1e-3:\n",
    "            break\n",
    "        w.append(w_new)\n",
    "    return w\n",
    "\n",
    "w_init = np.array([[2], [1]])\n",
    "# tt = []\n",
    "# for i in range(n):\n",
    "#     tt.append(np.random.randint(0, X.shape[0] ))\n",
    "# data = np.array(X[tt ,:])\n",
    "# label = np.array(y[tt , :])\n",
    "# print(sgrad(w_init,data,label))\n",
    "\n",
    "w = my_MGD(w_init,0.9)\n",
    "print(w[-1])"
   ]
  },
  {
   "cell_type": "markdown",
   "metadata": {},
   "source": [
    "# Điều kiện dừng, Khi nào dừng\n",
    "\n",
    "Trong thực nghiệm, có một vài phương pháp như dưới đây:\n",
    "\n",
    "1 Giới hạn số vòng lặp: đây là phương pháp phổ biến nhất và cũng để đảm bảo rằng chương trình chạy không quá lâu. \n",
    "    Tuy nhiên, một nhược điểm của cách làm này là có thể thuật toán dừng lại trước khi đủ gần với nghiệm.\n",
    "    \n",
    "2 So sánh gradient của nghiệm tại hai lần cập nhật liên tiếp, khi nào giá trị này đủ nhỏ thì dừng lại. \n",
    "    Phương pháp này cũng có một nhược điểm lớn là việc tính đạo hàm đôi khi trở nên quá phức tạp (ví dụ như khi có quá nhiều dữ liệu), nếu áp dụng phương pháp này thì coi như ta không được lợi khi sử dụng SGD và mini-batch GD.\n",
    "    \n",
    "3 So sánh giá trị của hàm mất mát của nghiệm tại hai lần cập nhật liên tiếp, khi nào giá trị này đủ nhỏ thì dừng lại. \n",
    "    Nhược điểm của phương pháp này là nếu tại một thời điểm, đồ thị hàm số có dạng bẳng phẳng tại một khu vực nhưng khu vực đó không chứa điểm local minimum (khu vực này thường được gọi là saddle points), thuật toán cũng dừng lại trước khi đạt giá trị mong muốn.\n",
    "    \n",
    "4 Trong SGD và mini-batch GD, cách thường dùng là so sánh nghiệm sau một vài lần cập nhật. \n",
    "    Trong đoạn code Python phía trên về SGD, tôi áp dụng việc so sánh này mỗi khi nghiệm được cập nhật 10 lần. Việc làm này cũng tỏ ra khá hiệu quả."
   ]
  },
  {
   "cell_type": "code",
   "execution_count": null,
   "metadata": {},
   "outputs": [],
   "source": []
  }
 ],
 "metadata": {
  "kernelspec": {
   "display_name": "Python 3",
   "language": "python",
   "name": "python3"
  },
  "language_info": {
   "codemirror_mode": {
    "name": "ipython",
    "version": 3
   },
   "file_extension": ".py",
   "mimetype": "text/x-python",
   "name": "python",
   "nbconvert_exporter": "python",
   "pygments_lexer": "ipython3",
   "version": "3.7.0"
  }
 },
 "nbformat": 4,
 "nbformat_minor": 2
}
