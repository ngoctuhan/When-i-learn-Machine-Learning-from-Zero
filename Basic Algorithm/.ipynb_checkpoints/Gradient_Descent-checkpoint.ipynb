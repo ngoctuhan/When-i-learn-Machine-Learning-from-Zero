{
 "cells": [
  {
   "cell_type": "markdown",
   "metadata": {},
   "source": [
    "Gradient Desecent cho hàm số 1 biến:\n",
    "Trong Machine Learning và các bài toán tối ưu chúng ta thường xuyên cần tìm các giá trị nhỏ nhất hoặc lớn nhất của hàm số. Để tìm được chúng ta thường xuyên sử dụng phương pháp đạo hàm tương tự như Toán THPT để tìm cực tiểu và cực đại. Nhưng việc đạo hàm sẽ rất phức tạp, thậm chí là bất khả thi nếu như mà chúng dữ liệu nhiều chiều, và rất nhiều điểm dữ liệu. Vì vậy có một hướng tiếp cập phổ biến là xuất phát từ một điểm mà chúng ta coi là gần với nghiệm của bài toán, sau đó dùng một phép toán lặp để tiến dần đến điểm cần tìm, tức đến khi đạo hàm gần với 0. \n",
    "Phương pháp này được gọi là Gradient Descent viết tắt GD.\n",
    "Một số cụm từ sử dụng:\n",
    "1. local minium ( điểm làm cho hàm số đạt cực tiểu ) tính bằng nghiệm phép đạo hàm = 0 \n",
    "2. global minium ( điểm  mà hàm số đạt giá trị nhỏ nhất)"
   ]
  },
  {
   "cell_type": "markdown",
   "metadata": {},
   "source": [
    "    Thực hiện ý tưởng với hàm số : \n",
    "f(x) = x**2 + 5sin(x) \n",
    "Đạo hàm là f'(x) = 2x + 5cos(x)\n",
    "Gỉa sử điểm bắt đầu là x0 và sau đó ta cập nhật sau mỗi vòng lặp.\n",
    "Tại vòng lặp t ta được giá trị xt và cần tìm xt+1 sao cho gần giá trị x* nhất.\n",
    "xt+1 = xt - n*f'(xt)"
   ]
  },
  {
   "cell_type": "code",
   "execution_count": 12,
   "metadata": {},
   "outputs": [],
   "source": [
    "import numpy as np\n",
    "import math\n",
    "import matplotlib.pyplot as plt\n",
    "\n",
    "def f(x):\n",
    "    return x**2 + 5 * np.sin(x)\n",
    "\n",
    "def f_(x):\n",
    "    return 2*x + 5*np.cos(x)\n",
    "\n",
    "def x_next(n, x):\n",
    "    return x - n * f_(x)"
   ]
  },
  {
   "cell_type": "code",
   "execution_count": 12,
   "metadata": {},
   "outputs": [],
   "source": [
    "def myGD(n,x0):\n",
    "    x = [x0]\n",
    "    for i in range(100):\n",
    "        x_new = x_next( n, x[-1])\n",
    "        if abs(f_(x_new)) < 1e-3:\n",
    "            break\n",
    "        x.append(x_new)\n",
    "    return (x,i)"
   ]
  },
  {
   "cell_type": "code",
   "execution_count": 12,
   "metadata": {},
   "outputs": [
    {
     "name": "stdout",
     "output_type": "stream",
     "text": [
      "-1.1103410483948122 29\n",
      "Ket qua :\n",
      "-1.1106667365268623 11\n",
      "Mo phong ket qua bang do thi :\n",
      "[5, 3.8581689072683867, 3.463564567930569, 3.2451582916682646, 3.0934475688734215, 2.9741786797296776, 2.8723524342019475, 2.7798685851337033, 2.691538912182054, 2.6034429924417726, 2.512083663118539, 2.413825273788166, 2.3043909242955314, 2.178284700900974, 2.028031263811057, 1.8431593967550366, 1.6090315913519224, 1.3063382475764564, 0.9143774850440367, 0.42636006838025575, -0.11415049832376245, -0.5880663503407273, -0.8864605464168874, -1.0252476809653677, -1.079641732011138, -1.0995355411928174, -1.1066334337506414, -1.1091439570842945, -1.1100292207856688, -1.1103410483948122]\n"
     ]
    },
    {
     "data": {
      "image/png": "[encoded data removed]",
      "text/plain": [
       "<Figure size 432x288 with 1 Axes>"
      ]
     },
     "metadata": {
      "needs_background": "light"
     },
     "output_type": "display_data"
    },
    {
     "name": "stdout",
     "output_type": "stream",
     "text": [
      "[-5, -4.141831092731613, -3.0434140487394945, -1.9371390635788721, -1.370609623535342, -1.1959138533062952, -1.1398126662660861, -1.1207324901805855, -1.1140974995041208, -1.1117718342401366, -1.1109543623859697, -1.1106667365268623]\n"
     ]
    },
    {
     "data": {
      "image/png": "[encoded data removed]",
      "text/plain": [
       "<Figure size 432x288 with 1 Axes>"
      ]
     },
     "metadata": {
      "needs_background": "light"
     },
     "output_type": "display_data"
    }
   ],
   "source": [
    "(x1,it1) = myGD(.1,5)\n",
    "(x2,it2) = myGD(.1,-5)\n",
    "print(x1[-1] , it1)\n",
    "print(\"Ket qua :\")\n",
    "print(x2[-1], it2)\n",
    "print(\"Mo phong ket qua bang do thi :\")\n",
    "\n",
    "print(x1)\n",
    "for i in x1:\n",
    "    plt.plot(i,f_(i),\"ro\",)\n",
    "plt.show()\n",
    "\n",
    "print(x2)\n",
    "for i in x2:\n",
    "    plt.plot(i,f_(i),\"ro\",)\n",
    "plt.show()"
   ]
  },
  {
   "cell_type": "markdown",
   "metadata": {},
   "source": [
    "Các hàm được sử dụng để thực hiện việc tìm x_t+1 \n",
    "1. f_(x) tính giá trị đạo hàm của hàm số tại x\n",
    "2. x_t+1(n, x) tính giá trị x(t+1) n: hệ số learning rate\n",
    "3. f(t) tính giá trị của hàm số\n",
    "\n",
    "Kết luận : Điển learnig rate có ý nghĩa quan trọng đến tốc độ hội tụ. Khi điểm lr càng lớn tốc độ càng nhanh nhưng có thể khiến cho mãi không hội tụ vì nhảy vùng quanh từ trái sang phải.\n",
    "TH này có thể mô tả :\n",
    "Gỉa sử điểm cần hội tụ x* = 3 và khiến cho f'(x*) = 0 \n",
    "Nhưng tại vòng lặp t ta có thể giá trị xt = 2.6\n",
    "Hệ số learnig rate là 0.5 thì sau mỗi khi thực hiện xt+1 > x*\n",
    "Tiếp tục thì x+t1 < x*\n"
   ]
  },
  {
   "cell_type": "markdown",
   "metadata": {},
   "source": [
    "Gradient Descent cho hàm nhiều biến:\n",
    "    Với bài toán hàm nhiều biến hàm F(V) với V là một vector. Đạo hàm của hàm số đó tại một điểm \n",
    "V bất kỳ được ký hiệu là ∇vF(V) (hình tam giác ngược đọc là nabla). \n",
    "Khi đó ta cũng xuất phát từ một điểm dự đoán Vo,sau vòng lặp thứ t ta có:\n",
    "V_t+1 = V_t - n * ∇vF(V_t)\n",
    "Quy tắc cần nhớ: luôn luôn đi ngược hướng với đạo hàm.\n",
    "áp dụng cho bài toán Linear Regression:\n",
    "Mô tả bài toán của mô hình LR: \n",
    "    Cho tập điểm dữ liệu nhiều chiều tất cả dữ liệu đó đặc trưng cho một đại lượng tổng quát. Ví dụ như cân nặng và chiều cao đặc trưng cho chỉ số BMI( Gỉa sử chưa biết công thức BMI xây dựng sẵn). Thì với tập dữ liệu bạn đầu ta tìm đc các tham số:\n",
    "sao đó BMI = x2*w + x1*h + xo\n",
    "Đặt p = [w, h, 1]\n",
    "x = [x2, x1, x0]\n",
    "Ta có BMI = p * x.T\n",
    "Lưu ý : .T ( là phương thức lấy chuyển vị của ma trận được hỗ trợ trong thư viện numy)\n",
    "    Nhiệm vụ cần : Xác định các tham số x2, x1, xo sao cho khi có một một (w,h) ta có thể có chỉ số BMI. \n",
    "Tìm như nào?\n",
    "    Chúng ta biết ý tưởng của LR là dự vào các test đầu vào tối ưu hàm mất mát. Sao cho mất mát là nhỏ nhất và tìm đc x.\n",
    "Hàm mất mát :\n",
    "    y_r là vector giá trị BMI chính xác\n",
    "    y  là vector giá trị BMI tìm từ công thức trên.\n",
    "    Hàm mất mát : \n",
    "    L(x) = y_r - y = y_r - p * x.T\n",
    "Sai số dự đoán trên tập dữ liêu N.\n",
    "    1/2 * ||(y_r - p * x.T)||2 ( Nhân vs 1/2 để khi đạo hàm sẽ làm mất đi hệ số phía trước) \n",
    "Đạo hàm của hàm sai số dự đoán theo x:\n",
    "    p.T * (p* x.T - y_r)\n",
    "    "
   ]
  },
  {
   "cell_type": "code",
   "execution_count": 3,
   "metadata": {},
   "outputs": [
    {
     "name": "stdout",
     "output_type": "stream",
     "text": [
      "Chỉ số BMI được chuẩn là : \n",
      "[22.67573696 22.22222222 21.78649237 21.63114885 21.8299522  21.67125803\n",
      " 21.2585034  21.4532872  21.0498179  20.89795918 20.83070319 20.67901235\n",
      " 20.30517483]\n",
      "Tap diem du lieu \n",
      " [[147.  49.   1.]\n",
      " [150.  50.   1.]\n",
      " [153.  51.   1.]\n",
      " [158.  54.   1.]\n",
      " [163.  58.   1.]\n",
      " [165.  59.   1.]\n",
      " [168.  60.   1.]\n",
      " [170.  62.   1.]\n",
      " [173.  63.   1.]\n",
      " [175.  64.   1.]\n",
      " [178.  66.   1.]\n",
      " [180.  67.   1.]\n",
      " [183.  68.   1.]]\n",
      "Tối ưu tham số tìm được từ thư viện :\n",
      " [-0.26968763  0.38566135 43.40620922]\n",
      "[22.65953321 22.23613166 21.81273011 21.62127598 21.8154832  21.66176928\n",
      " 21.23836773 21.47031516 21.04691361 20.89319969 20.85545948 20.70174556\n",
      " 20.27834401]\n"
     ]
    }
   ],
   "source": [
    "# LR:\n",
    "from __future__ import division, print_function, unicode_literals\n",
    "import numpy as np\n",
    "from sklearn import linear_model\n",
    "\n",
    "#creat data\n",
    "height = np.array([[147, 150, 153, 158, 163, 165, 168, 170, 173, 175, 178, 180, 183]])\n",
    "weight = np.array([[ 49, 50, 51,  54, 58, 59, 60, 62, 63, 64, 66, 67, 68]])\n",
    "\n",
    "def BMI_rule(h,w):\n",
    "    bmi = []\n",
    "    for i in range(13):\n",
    "        wei = w[0][i]\n",
    "        k = h[0][i]**2\n",
    "        bmi.append(float(wei/k))\n",
    "    bmi = np.asarray(bmi)\n",
    "    bmi = bmi * 10000\n",
    "    return bmi\n",
    "bmi = BMI_rule(height,weight)\n",
    "print(\"Chỉ số BMI được chuẩn là : \\n{}\".format(bmi))   \n",
    "\n",
    "height = height.T\n",
    "weight = weight.T\n",
    "one = np.ones((height.shape[0], 1))\n",
    "X = np.concatenate((height, weight), axis = 1)\n",
    "X = np.concatenate((X,one),axis = 1)\n",
    "print (\"Tap diem du lieu \\n\", X)\n",
    "#-----------------------------------------------------------------------------------------------\n",
    "res = linear_model.LinearRegression(fit_intercept=False).fit(X,bmi)\n",
    "print(\"Tối ưu tham số tìm được từ thư viện :\\n\",res.coef_)\n",
    "x = res.coef_\n",
    "test = np.dot(X,x)\n",
    "print(test)"
   ]
  },
  {
   "cell_type": "code",
   "execution_count": 5,
   "metadata": {},
   "outputs": [
    {
     "name": "stdout",
     "output_type": "stream",
     "text": [
      "23.207168470000003\n"
     ]
    }
   ],
   "source": [
    "# Đánh giá hiểu quả LR\n",
    "import numpy as np\n",
    "w = np.array([-0.26968763,0.38566135,43.40620922])\n",
    "h = np.array([175,70,1])\n",
    "\n",
    "print(np.dot(w,h))\n",
    "\n",
    "#Kết quả công thức 22,8\n",
    "#Sai số : 3% "
   ]
  },
  {
   "cell_type": "markdown",
   "metadata": {},
   "source": [
    "Chúng ta triển khai bài toán trên với phương pháp GD xem sao : \n",
    "Để giảm được sai số trong phép tính của N mẫu ta thực hiện lấy trung bình cộng sai số của mỗi dữ liệu khiến cho việc sai số được giảm đi. \n",
    "Khi đó : Đạo hàm sai số :\n",
    "    (p.T * (p * x.T - y_r)) / N"
   ]
  },
  {
   "cell_type": "code",
   "execution_count": 13,
   "metadata": {},
   "outputs": [
    {
     "name": "stdout",
     "output_type": "stream",
     "text": [
      "Chỉ số BMI được chuẩn là : \n",
      "[22.67573696 22.22222222 21.78649237 21.63114885 21.8299522  21.67125803\n",
      " 21.2585034  21.4532872  21.0498179  20.89795918 20.83070319 20.67901235\n",
      " 20.30517483]\n",
      "[[22.67573696]\n",
      " [22.22222222]\n",
      " [21.78649237]\n",
      " [21.63114885]\n",
      " [21.8299522 ]\n",
      " [21.67125803]\n",
      " [21.2585034 ]\n",
      " [21.4532872 ]\n",
      " [21.0498179 ]\n",
      " [20.89795918]\n",
      " [20.83070319]\n",
      " [20.67901235]\n",
      " [20.30517483]]\n",
      "Tap diem du lieu \n",
      " [[147.  49.   1.]\n",
      " [150.  50.   1.]\n",
      " [153.  51.   1.]\n",
      " [158.  54.   1.]\n",
      " [163.  58.   1.]\n",
      " [165.  59.   1.]\n",
      " [168.  60.   1.]\n",
      " [170.  62.   1.]\n",
      " [173.  63.   1.]\n",
      " [175.  64.   1.]\n",
      " [178.  66.   1.]\n",
      " [180.  67.   1.]\n",
      " [183.  68.   1.]]\n",
      "Điểm khởi tạo :  [[ 0.2]\n",
      " [ 0.4]\n",
      " [40. ]]\n"
     ]
    },
    {
     "ename": "TypeError",
     "evalue": "grap() missing 2 required positional arguments: 'X' and 'y'",
     "output_type": "error",
     "traceback": [
      "\u001b[1;31m---------------------------------------------------------------------------\u001b[0m",
      "\u001b[1;31mTypeError\u001b[0m                                 Traceback (most recent call last)",
      "\u001b[1;32m<ipython-input-13-cab383dfb3d7>\u001b[0m in \u001b[0;36m<module>\u001b[1;34m()\u001b[0m\n\u001b[0;32m     45\u001b[0m \u001b[0mw_init\u001b[0m \u001b[1;33m=\u001b[0m \u001b[0mnp\u001b[0m\u001b[1;33m.\u001b[0m\u001b[0marray\u001b[0m\u001b[1;33m(\u001b[0m \u001b[1;33m[\u001b[0m\u001b[1;33m[\u001b[0m\u001b[1;36m0.2\u001b[0m\u001b[1;33m]\u001b[0m\u001b[1;33m,\u001b[0m\u001b[1;33m[\u001b[0m\u001b[1;36m0.4\u001b[0m\u001b[1;33m]\u001b[0m\u001b[1;33m,\u001b[0m\u001b[1;33m[\u001b[0m\u001b[1;36m40\u001b[0m\u001b[1;33m]\u001b[0m\u001b[1;33m]\u001b[0m \u001b[1;33m)\u001b[0m\u001b[1;33m\u001b[0m\u001b[0m\n\u001b[0;32m     46\u001b[0m \u001b[0mprint\u001b[0m\u001b[1;33m(\u001b[0m\u001b[1;34m\"Điểm khởi tạo : \"\u001b[0m\u001b[1;33m,\u001b[0m\u001b[0mw_init\u001b[0m\u001b[1;33m)\u001b[0m\u001b[1;33m\u001b[0m\u001b[0m\n\u001b[1;32m---> 47\u001b[1;33m \u001b[0mv\u001b[0m \u001b[1;33m=\u001b[0m \u001b[0mmyGD\u001b[0m\u001b[1;33m(\u001b[0m\u001b[0mw_init\u001b[0m\u001b[1;33m,\u001b[0m \u001b[1;36m0.1\u001b[0m\u001b[1;33m,\u001b[0m \u001b[0mX\u001b[0m\u001b[1;33m,\u001b[0m \u001b[0mbmi\u001b[0m\u001b[1;33m)\u001b[0m\u001b[1;33m\u001b[0m\u001b[0m\n\u001b[0m\u001b[0;32m     48\u001b[0m \u001b[0mprint\u001b[0m\u001b[1;33m(\u001b[0m\u001b[0mv\u001b[0m\u001b[1;33m[\u001b[0m\u001b[1;33m-\u001b[0m\u001b[1;36m1\u001b[0m\u001b[1;33m]\u001b[0m\u001b[1;33m)\u001b[0m\u001b[1;33m\u001b[0m\u001b[0m\n",
      "\u001b[1;32m<ipython-input-13-cab383dfb3d7>\u001b[0m in \u001b[0;36mmyGD\u001b[1;34m(w_s, eta, X, y)\u001b[0m\n\u001b[0;32m     39\u001b[0m     \u001b[1;32mfor\u001b[0m \u001b[0mi\u001b[0m \u001b[1;32min\u001b[0m \u001b[0mrange\u001b[0m\u001b[1;33m(\u001b[0m\u001b[1;36m100\u001b[0m\u001b[1;33m)\u001b[0m\u001b[1;33m:\u001b[0m\u001b[1;33m\u001b[0m\u001b[0m\n\u001b[0;32m     40\u001b[0m         \u001b[0mw_new\u001b[0m \u001b[1;33m=\u001b[0m \u001b[0mw\u001b[0m\u001b[1;33m[\u001b[0m\u001b[1;33m-\u001b[0m\u001b[1;36m1\u001b[0m\u001b[1;33m]\u001b[0m \u001b[1;33m-\u001b[0m \u001b[0meta\u001b[0m \u001b[1;33m*\u001b[0m \u001b[0mgrap\u001b[0m\u001b[1;33m(\u001b[0m\u001b[0mw\u001b[0m\u001b[1;33m[\u001b[0m\u001b[1;33m-\u001b[0m\u001b[1;36m1\u001b[0m\u001b[1;33m]\u001b[0m\u001b[1;33m,\u001b[0m \u001b[0mX\u001b[0m\u001b[1;33m,\u001b[0m \u001b[0my\u001b[0m\u001b[1;33m)\u001b[0m\u001b[1;33m\u001b[0m\u001b[0m\n\u001b[1;32m---> 41\u001b[1;33m         \u001b[1;32mif\u001b[0m \u001b[0mnp\u001b[0m\u001b[1;33m.\u001b[0m\u001b[0mlinalg\u001b[0m\u001b[1;33m.\u001b[0m\u001b[0mnorm\u001b[0m\u001b[1;33m(\u001b[0m\u001b[0mgrap\u001b[0m\u001b[1;33m(\u001b[0m\u001b[0mw_new\u001b[0m\u001b[1;33m)\u001b[0m\u001b[1;33m)\u001b[0m\u001b[1;33m/\u001b[0m\u001b[0mlen\u001b[0m\u001b[1;33m(\u001b[0m\u001b[0mw_new\u001b[0m\u001b[1;33m)\u001b[0m \u001b[1;33m<\u001b[0m \u001b[1;36m1e-3\u001b[0m\u001b[1;33m:\u001b[0m\u001b[1;33m\u001b[0m\u001b[0m\n\u001b[0m\u001b[0;32m     42\u001b[0m             \u001b[1;32mbreak\u001b[0m\u001b[1;33m\u001b[0m\u001b[0m\n\u001b[0;32m     43\u001b[0m         \u001b[0mw\u001b[0m\u001b[1;33m.\u001b[0m\u001b[0mappend\u001b[0m\u001b[1;33m(\u001b[0m\u001b[0mw_new\u001b[0m\u001b[1;33m)\u001b[0m\u001b[1;33m\u001b[0m\u001b[0m\n",
      "\u001b[1;31mTypeError\u001b[0m: grap() missing 2 required positional arguments: 'X' and 'y'"
     ]
    }
   ],
   "source": [
    "from __future__ import division, print_function, unicode_literals\n",
    "import numpy as np\n",
    "#creat data\n",
    "height = np.array([[147, 150, 153, 158, 163, 165, 168, 170, 173, 175, 178, 180, 183]])\n",
    "weight = np.array([[ 49, 50, 51,  54, 58, 59, 60, 62, 63, 64, 66, 67, 68]])\n",
    "\n",
    "def BMI_rule(h,w):\n",
    "    bmi = []\n",
    "    for i in range(13):\n",
    "        wei = w[0][i]\n",
    "        k = h[0][i]**2\n",
    "        bmi.append(float(wei/k))\n",
    "    bmi = np.asarray(bmi)\n",
    "    bmi = bmi * 10000\n",
    "    return bmi\n",
    "bmi = BMI_rule(height,weight)\n",
    "print(\"Chỉ số BMI được chuẩn là : \\n{}\".format(bmi))   \n",
    "bmi = bmi.reshape(13,1)\n",
    "\n",
    "print(bmi)\n",
    "height = height.T\n",
    "weight = weight.T\n",
    "one = np.ones((height.shape[0], 1))\n",
    "X = np.concatenate((height, weight), axis = 1)\n",
    "X = np.concatenate((X,one),axis = 1)\n",
    "print (\"Tap diem du lieu \\n\", X)\n",
    "\n",
    "# ------------------------------------------------------------------------\n",
    "\n",
    "def grap(w,X,y): # giá trị đạo hàm hàm mất mát tại w\n",
    "    N = X.shape[0]\n",
    "    return 1/N * (X.T.dot( X.dot(w) - y ))\n",
    "\n",
    "def const(w,X): # giá trị của hàm số tại w\n",
    "    N = X.shape[0]\n",
    "    return .5/N*np.linalg.norm(y - X.dot(w), 2)**2\n",
    "def myGD(w_s, eta, X, y):\n",
    "    w = [w_s]\n",
    "    for i in range(100):\n",
    "        w_new = w[-1] - eta * grap( w[-1], X, y)\n",
    "        w.append(w_new)\n",
    "    return w\n",
    "w_init = np.array( [[0.2],[0.4],[40]] )\n",
    "print(\"Điểm khởi tạo : \",w_init)\n",
    "v = myGD(w_init, 0.1, X, bmi)\n",
    "print(v[-1])"
   ]
  },
  {
   "cell_type": "code",
   "execution_count": null,
   "metadata": {},
   "outputs": [],
   "source": []
  }
 ],
 "metadata": {
  "kernelspec": {
   "display_name": "Python 3",
   "language": "python",
   "name": "python3"
  },
  "language_info": {
   "codemirror_mode": {
    "name": "ipython",
    "version": 3
   },
   "file_extension": ".py",
   "mimetype": "text/x-python",
   "name": "python",
   "nbconvert_exporter": "python",
   "pygments_lexer": "ipython3",
   "version": "3.7.0"
  }
 },
 "nbformat": 4,
 "nbformat_minor": 2
}
