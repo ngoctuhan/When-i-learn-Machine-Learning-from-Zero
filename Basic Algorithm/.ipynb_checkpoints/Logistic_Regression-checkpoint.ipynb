{
 "cells": [
  {
   "cell_type": "markdown",
   "metadata": {},
   "source": [
    "# Tư tưởng xuất phát : \n",
    "    Một nhóm 20 sinh viên dành thời gian trong khoảng từ 0 đến 6 giờ cho việc ôn thi. Thời gian ôn thi này ảnh hưởng đến xác suất sinh viên vượt qua kỳ thi như thế nào?\n",
    "0.5 \t0\t 2.75\t1\n",
    "0.75\t0\t 3  \t0\n",
    "1   \t0\t 3.25\t1\n",
    "1.25\t0\t 3.5\t0\n",
    "1.5 \t0\t 4  \t1\n",
    "1.75\t0\t 4.25\t1\n",
    "1.75\t1\t 4.5\t1\n",
    "2   \t0\t 4.75\t1\n",
    "2.25\t1\t 5  \t1\n",
    "2.5 \t0\t 5.5\t1\n",
    "    Rõ ràng chúng ta thấy là không phải cứ học nhiều là sẽ đỗ, có những người học 3.5h vẫn trượt nhưng những người 1,75h lại đỗ. Như vậy với mô hình tuyến tính PLA là không phù hợp. Vì không thể nói là học trên mấy giời là chắc chắn đậu được. Chúng ta chỉ có thể thấy ràng càng học nhiều thì tỉ lệ vượt qua kì thi càng cao như vậy khi cho một giờ học ta có thể dự đoán được là xác xuất trượt và xác xuất vượt qua là bao nhiêu.\n",
    "    Đầu ra sẽ là 0, 1 nên hàm phân chia có tính chất sau : ( ta có thể mô tả chúng trên đồ thị như hình bên dưới)\n",
    "    + Là hàm số liên tục nhận giá trị thực, bị chặn trong khoảng (0,1).\n",
    "    + Nếu coi điểm có tung độ là 1/2làm điểm phân chia thì các điểm càng xa điểm này về phía bên trái có giá trị càng gần 0.     Ngược lại, các điểm càng xa điểm này về phía phải có giá trị càng gần 1. Điều này khớp với nhận xét rằng học càng nhiều thì xác suất đỗ càng cao và ngược lại.\n",
    "    + Mượt (smooth) nên có đạo hàm mọi nơi, có thể được lợi trong việc tối ưu.\n",
    "    "
   ]
  },
  {
   "cell_type": "code",
   "execution_count": 3,
   "metadata": {},
   "outputs": [
    {
     "name": "stderr",
     "output_type": "stream",
     "text": [
      "C:\\Users\\trung\\Anaconda3\\lib\\site-packages\\sklearn\\linear_model\\logistic.py:433: FutureWarning: Default solver will be changed to 'lbfgs' in 0.22. Specify a solver to silence this warning.\n",
      "  FutureWarning)\n"
     ]
    },
    {
     "name": "stdout",
     "output_type": "stream",
     "text": [
      "[[-4.07757136  1.50459727]]\n",
      "[[0.03471429 0.04977796 0.07089815 0.10003599 0.13935284 0.19084543\n",
      "  0.19084543 0.25571189 0.33353774 0.42163182 0.51501327 0.60735808\n",
      "  0.69261426 0.7664761  0.87444195 0.91027253 0.93661923 0.95560703\n",
      "  0.96909411 0.98519265]]\n",
      "[[-4.09267104]\n",
      " [ 1.55276433]]\n"
     ]
    },
    {
     "data": {
      "image/png": "[encoded data removed]",
      "text/plain": [
       "<Figure size 432x288 with 1 Axes>"
      ]
     },
     "metadata": {
      "needs_background": "light"
     },
     "output_type": "display_data"
    },
    {
     "data": {
      "image/png": "[encoded data removed]",
      "text/plain": [
       "<Figure size 432x288 with 1 Axes>"
      ]
     },
     "metadata": {
      "needs_background": "light"
     },
     "output_type": "display_data"
    }
   ],
   "source": [
    "import numpy as np\n",
    "import matplotlib.pyplot as plt\n",
    "from sklearn.linear_model import LogisticRegression\n",
    "\n",
    "np.random.seed(2)\n",
    "\n",
    "X = np.array([[0.50, 0.75, 1.00, 1.25, 1.50, 1.75, 1.75, 2.00, 2.25, 2.50, \n",
    "              2.75, 3.00, 3.25, 3.50, 4.00, 4.25, 4.50, 4.75, 5.00, 5.50]])\n",
    "y = np.array([0, 0, 0, 0, 0, 0, 1, 0, 1, 0, 1, 0, 1, 0, 1, 1, 1, 1, 1, 1])\n",
    "a = np.concatenate((np.ones((1, 20)), X), axis = 0)\n",
    "a = a.T\n",
    "l = LogisticRegression(C = 1e5,fit_intercept= False).fit(a,y)\n",
    "print(l.coef_)\n",
    "w = l.coef_\n",
    "def sigmoid(s):\n",
    "    return 1/(1 + np.exp(-s))\n",
    "a = a.T\n",
    "w = w.T\n",
    "print(sigmoid(np.dot(w.T, a)))\n",
    "\n",
    "'''\n",
    "[[ 0.03281144  0.04694533  0.06674738  0.09407764  0.13102736  0.17961209\n",
    "   0.17961209  0.24121129  0.31580406  0.40126557  0.49318368  0.58556493\n",
    "   0.67229611  0.74866712  0.86263755  0.90117058  0.92977426  0.95055357\n",
    "   0.96541314  0.98329067]]\n",
    "'''\n",
    "X = np.concatenate((np.ones((1, X.shape[1])), X), axis = 0)\n",
    "def logistic_sigmoid_regression(X, y, w_init, eta, tol = 1e-4, max_count = 10000):\n",
    "    w = [w_init]    \n",
    "    it = 0\n",
    "    N = X.shape[1]\n",
    "    d = X.shape[0]\n",
    "    count = 0\n",
    "    check_w_after = 20\n",
    "    while count < max_count:\n",
    "        # mix data \n",
    "        mix_id = np.random.permutation(N)\n",
    "        for i in mix_id:\n",
    "            xi = X[:, i].reshape(d, 1)\n",
    "            yi = y[i]\n",
    "            zi = sigmoid(np.dot(w[-1].T, xi))\n",
    "            w_new = w[-1] + eta*(yi - zi)*xi\n",
    "            count += 1\n",
    "            # stopping criteria\n",
    "            if count%check_w_after == 0:                \n",
    "                if np.linalg.norm(w_new - w[-check_w_after]) < tol:\n",
    "                    return w\n",
    "            w.append(w_new)\n",
    "    return w\n",
    "eta = .05 \n",
    "d = X.shape[0]\n",
    "w_init = np.random.randn(d, 1)\n",
    "\n",
    "w = logistic_sigmoid_regression(X, y, w_init, eta)\n",
    "print(w[-1])\n",
    "# ------------------------------------------------------------\n",
    "\n",
    "def display(w):\n",
    "    X0 = X[1, np.where(y == 0)][0]\n",
    "    y0 = y[np.where(y == 0)]\n",
    "    X1 = X[1, np.where(y == 1)][0]\n",
    "    y1 = y[np.where(y == 1)]\n",
    "\n",
    "    plt.plot(X0, y0, 'ro', markersize = 8)\n",
    "    plt.plot(X1, y1, 'bs', markersize = 8)\n",
    "\n",
    "    xx = np.linspace(0, 6, 1000)\n",
    "    w0 = w[-1][0][0]\n",
    "    w1 = w[-1][1][0]\n",
    "    threshold = -w0/w1\n",
    "    yy = sigmoid(w0 + w1*xx)\n",
    "    plt.axis([-2, 8, -1, 2])\n",
    "    plt.plot(xx, yy, 'g-', linewidth = 2)\n",
    "    plt.plot(threshold, .5, 'y^', markersize = 8)\n",
    "    plt.xlabel('studying hours')\n",
    "    plt.ylabel('predicted probability of pass')\n",
    "    plt.show()\n",
    "display(w)\n",
    "w.append(l.coef_.T)\n",
    "display(w)\n"
   ]
  },
  {
   "cell_type": "markdown",
   "metadata": {},
   "source": [
    "# Hàm giúp mô tả phân sự chia bên trên (activation function)\n",
    "* Sigmoid function\n",
    "Trong đó hàm số có cả 3 tính chất nói trên : \n",
    "\n",
    "    f(s) = $\\dfrac{1}{1 + e^{-s}}$\n",
    "hàm này được chặn (0,1).\n",
    "\n",
    "    f'(s) = f(s) * (1 - f(s))\n",
    "* Tanh function\n",
    "    \n",
    "    tanh(s) = $\\dfrac{e^s - e^{-s}}{e^s + e^{-s}}$\n",
    "hàm này nhận giá trị trong (-1,1) nhưng có thể đưa về (0,1) \n",
    "    tanh(s) = 2σ(2s)−1 \n",
    "\n",
    "\n",
    "    "
   ]
  },
  {
   "cell_type": "markdown",
   "metadata": {},
   "source": [
    "Ap dụng cho bài phân biệt hoa bởi bộ dữ liệu IRIS"
   ]
  },
  {
   "cell_type": "code",
   "execution_count": 8,
   "metadata": {},
   "outputs": [
    {
     "name": "stdout",
     "output_type": "stream",
     "text": [
      "Training size: 64\n",
      "Test size    : 36\n",
      "XAC XUAT CHUAN XAC 100.0\n",
      "XAC XUAT CHUAN XAC 100.0\n"
     ]
    }
   ],
   "source": [
    "# -*- coding: utf-8 -*-\n",
    "\"\"\"\n",
    "Created on Thu Jan 17 12:42:57 2019\n",
    "\n",
    "@author: trung\n",
    "\"\"\"\n",
    "\n",
    "import numpy as np\n",
    "import matplotlib.pyplot as plt\n",
    "from sklearn.linear_model import LogisticRegression\n",
    "from sklearn.metrics import accuracy_score\n",
    "\n",
    "from sklearn import neighbors, datasets\n",
    "\n",
    "iris = datasets.load_iris()\n",
    "iris_X = iris.data\n",
    "iris_y = iris.target\n",
    "\n",
    "cls = [[0],[1]]\n",
    "\n",
    "from sklearn.model_selection import train_test_split\n",
    "X_train, X_test, y_train, y_test = train_test_split(\n",
    "     iris_X, iris_y, test_size=50)\n",
    "\n",
    "#Phân biệt hai loại hoa lan trong nhóm dữ liệu đã cho\n",
    "\n",
    "def extract_data(X, y, cls): # chỉ lấy dữ liệu nhóm 1 và nhóm 2\n",
    "    # Lấy vị trí các phần tử trong mảng mà có giá trị nhãn  = 0 và = 1\n",
    "    y_res_id_zeros = []\n",
    "    y_res_id_ones = []\n",
    "    for i in range(len(y)):\n",
    "        if y[i] == 1:\n",
    "            y_res_id_ones.append(i)\n",
    "        if y[i] == 0:\n",
    "            y_res_id_zeros.append(i)\n",
    "    n0 = len(y_res_id_zeros)\n",
    "    n1 = len(y_res_id_ones)\n",
    "    y_res_id = np.hstack((y_res_id_zeros,y_res_id_ones))\n",
    "    X_res = X[y_res_id,:]\n",
    "    y_res = np.asarray([0]*n0 + [1]*n1)\n",
    "    return (X_res, y_res)\n",
    "    \n",
    "(Xtrain, ytrain) = extract_data(X_train, y_train, cls)\n",
    "(Xtest, ytest) = extract_data(X_test, y_test, cls)\n",
    "\n",
    "print (\"Training size: %d\" %len(ytrain))\n",
    "print (\"Test size    : %d\" %len(ytest))\n",
    "\n",
    "lr = LogisticRegression(C = 1e5,solver='liblinear').fit(Xtrain, ytrain)\n",
    "\n",
    "lr_predict = lr.predict(Xtest)\n",
    "\n",
    "print(\"XAC XUAT CHUAN XAC\", 100* accuracy_score(ytest, lr_predict.tolist() ) )\n",
    "\n",
    "\n",
    "lr = LogisticRegression(C = 1e5,solver='lbfgs', multi_class = 'multinomial' ).fit(X_train, y_train)\n",
    "lr_predict = lr.predict(X_test)\n",
    "print(\"XAC XUAT CHUAN XAC\", 100* accuracy_score(y_test, lr_predict.tolist() ) )\n"
   ]
  },
  {
   "cell_type": "code",
   "execution_count": null,
   "metadata": {},
   "outputs": [],
   "source": []
  },
  {
   "cell_type": "code",
   "execution_count": null,
   "metadata": {},
   "outputs": [],
   "source": []
  },
  {
   "cell_type": "code",
   "execution_count": null,
   "metadata": {},
   "outputs": [],
   "source": []
  }
 ],
 "metadata": {
  "kernelspec": {
   "display_name": "Python 3",
   "language": "python",
   "name": "python3"
  },
  "language_info": {
   "codemirror_mode": {
    "name": "ipython",
    "version": 3
   },
   "file_extension": ".py",
   "mimetype": "text/x-python",
   "name": "python",
   "nbconvert_exporter": "python",
   "pygments_lexer": "ipython3",
   "version": "3.7.1"
  }
 },
 "nbformat": 4,
 "nbformat_minor": 2
}
