{
 "cells": [
  {
   "cell_type": "markdown",
   "metadata": {},
   "source": [
    "## Tensorflow là gì?\n",
    "\n",
    "Tensor flow là thư viện mã nguồn mở về học máy và học sâu được google phát hành mã nguồn miễn phí cho công đồng lập trình.  Let us understand the three models of the TensorFlow: data model, programming model, and execution model.\n",
    "\n",
    "1. Import the TensorFlow Library with the following code:\n",
    "\n",
    "import tensorflow as tf\n",
    "\n",
    "2. Get a TensorFlow session. TensorFlow offers two kinds of sessions: Session() and InteractiveSession(). We will create an interactive session (phiên tương tác) with the following code:\n",
    "\n",
    "tfs = tf.InteractiveSession()\n",
    "\n",
    "Sự khác biết của Session() và InteractiveSession() đó là InteractiveSession() là mặc định nên sử dụng không cần phải bổ sung các yếu tố khác nữa.\n",
    "\n",
    "3. Define a TensorFlow constant, hello:\n",
    "\n",
    "hello = tf.constant(\"Hello TensorFlow !!\")\n",
    "\n",
    "4. Execute the constant in a TensorFlow session and print the output:\n",
    "\n",
    "print(tfs.run(hello)\n",
    "\n"
   ]
  },
  {
   "cell_type": "code",
   "execution_count": 44,
   "metadata": {},
   "outputs": [
    {
     "name": "stdout",
     "output_type": "stream",
     "text": [
      "b'Hello TensorFlow !!'\n"
     ]
    }
   ],
   "source": [
    "import tensorflow as tf\n",
    "\n",
    "tfs = tf.InteractiveSession()\n",
    "\n",
    "string = tf.constant(\"Hello TensorFlow !!\")\n",
    "\n",
    "print(tfs.run(string))\n",
    "\n"
   ]
  },
  {
   "cell_type": "markdown",
   "metadata": {},
   "source": [
    "## Tensors\n",
    "\n",
    "Tensors là thành phần cơ bản trong Tensor flow. Tensor là một mảng nhiều chiều được xác định bởi rank,shape, type\n",
    "\n",
    "+ Rank : là số chiều của tensors. \n",
    "+ Shape: Kích thước trong mỗi chiều\n",
    "+ Type : kiểu dữ liệu \n"
   ]
  },
  {
   "cell_type": "markdown",
   "metadata": {},
   "source": [
    "## Constants\n",
    "\n",
    "The constant valued tensors are created using the tf.constant() function that has the following signature:\n",
    "\n",
    "tf.constant(value,dtype=None,shape=None,name='Const',verify_shape=False)\n",
    "\n",
    "EX:\n",
    "\n",
    "c1=tf.constant(5,name='x')\n",
    "c2=tf.constant(6.0,name='y')\n",
    "c3=tf.constant(7.0,tf.float32,name='z')\n"
   ]
  },
  {
   "cell_type": "code",
   "execution_count": 4,
   "metadata": {},
   "outputs": [
    {
     "name": "stdout",
     "output_type": "stream",
     "text": [
      "Tensor(\"x:0\", shape=(), dtype=int32) 5\n"
     ]
    }
   ],
   "source": [
    "c1=tf.constant(5,name='x')\n",
    "c2=tf.constant(6.0,name='y')\n",
    "c3=tf.constant(7.0,tf.float32,name='z')\n",
    "\n",
    "print(c1, tfs.run(c1))"
   ]
  },
  {
   "cell_type": "markdown",
   "metadata": {},
   "source": [
    "## Operations\n",
    "\n",
    "Trong tensor cũng cung cấp nhiều operater cho hai tensor cần cùng một loại dữ liệu\n",
    "\n"
   ]
  },
  {
   "cell_type": "code",
   "execution_count": 8,
   "metadata": {},
   "outputs": [
    {
     "name": "stdout",
     "output_type": "stream",
     "text": [
      "Sub :  -1.0\n",
      "Add :  13.0\n"
     ]
    }
   ],
   "source": [
    "sub = tf.subtract(c2, c3)\n",
    "add = tf.add(c2, c3)\n",
    "print(\"Sub : \",tfs.run(sub))\n",
    "print(\"Add : \", tfs.run(add))"
   ]
  },
  {
   "cell_type": "markdown",
   "metadata": {},
   "source": [
    "## Placeholders\n",
    "\n",
    "Việc này tương tự như khai báo một biến với một kiểu dữ liệu như trên các ngôn ngữ C/C++...\n",
    "\n",
    "Cú pháp : \n",
    "\n",
    "tf.placeholder( dtype,shape=None,name=None)\n"
   ]
  },
  {
   "cell_type": "code",
   "execution_count": 9,
   "metadata": {},
   "outputs": [
    {
     "name": "stdout",
     "output_type": "stream",
     "text": [
      "p1 :  Tensor(\"Placeholder:0\", dtype=float32)\n",
      "p2 :  Tensor(\"Placeholder_1:0\", dtype=float32)\n",
      "run(op4,{p1:2.0, p2:3.0}) :  6.0\n"
     ]
    }
   ],
   "source": [
    "p1 = tf.placeholder(tf.float32)\n",
    "p2 = tf.placeholder(tf.float32)\n",
    "print('p1 : ', p1)\n",
    "print('p2 : ', p2)\n",
    "\n",
    "op4 = p1 * p2\n",
    "print('run(op4,{p1:2.0, p2:3.0}) : ',tfs.run(op4,{p1:2.0, p2:3.0}))\n"
   ]
  },
  {
   "cell_type": "markdown",
   "metadata": {},
   "source": [
    "We can create tensors from Python objects such as lists and NumPy arrays, using the tſ. convert_to_tensor () operation with the following signature:\n",
    "\n",
    "tf. convert_to_tensor (value,dtype=None,name=None,preferred dtype=None)\n"
   ]
  },
  {
   "cell_type": "code",
   "execution_count": 19,
   "metadata": {},
   "outputs": [
    {
     "name": "stdout",
     "output_type": "stream",
     "text": [
      "Tensor(\"Const_12:0\", shape=(), dtype=float32) 5.0\n",
      "Tensor(\"Const_13:0\", shape=(4,), dtype=int64) [1 2 3 4]\n",
      "tf_t [0] :  1\n",
      "a2 Shape :  (3, 5)\n",
      "Tensor(\"Const_14:0\", shape=(3, 5), dtype=float64) [[1.   2.   3.   4.   5.99]\n",
      " [2.   3.   4.   5.   6.99]\n",
      " [3.   4.   5.   6.   7.99]]\n"
     ]
    }
   ],
   "source": [
    "import numpy as np\n",
    "#  Create and print a 0-D Tensor:\n",
    "\n",
    "tf_t = tf.convert_to_tensor(5.0, dtype = tf.float32)\n",
    "\n",
    "print(tf_t, tfs.run(tf_t))\n",
    "\n",
    "# Create and print a 1-D Tensor:\n",
    "\n",
    "a = np.array([1,2,3,4])\n",
    "tf_t = tf.convert_to_tensor(a, dtype = tf.int64)\n",
    "\n",
    "print(tf_t, tfs.run(tf_t))\n",
    "\n",
    "# access a elements of tensor 1-D is the same array 1-D or vector\n",
    "\n",
    "print(\"tf_t [0] : \", tfs.run(tf_t[0]))\n",
    "\n",
    "# Creat and print a 2-D Tensor or matrix \n",
    "\n",
    "a2 = np. array ( [ (1, 2, 3, 4, 5.99),(2, 3, 4, 5, 6.99),(3, 4, 5, 6, 7.99) ])\n",
    "print (\"a2 Shape : \", a2.shape)\n",
    "tf_t= tf.convert_to_tensor(a2, dtype=tf.float64)\n",
    "print(tf_t, tfs.run(tf_t))"
   ]
  },
  {
   "cell_type": "code",
   "execution_count": 20,
   "metadata": {},
   "outputs": [
    {
     "name": "stdout",
     "output_type": "stream",
     "text": [
      "[0. 0. 0. 0. 0. 0. 0. 0. 0. 0. 0. 0. 0. 0. 0. 0. 0. 0. 0. 0. 0. 0. 0. 0.\n",
      " 0. 0. 0. 0. 0. 0. 0. 0. 0. 0. 0. 0. 0. 0. 0. 0. 0. 0. 0. 0. 0. 0. 0. 0.\n",
      " 0. 0. 0. 0. 0. 0. 0. 0. 0. 0. 0. 0. 0. 0. 0. 0. 0. 0. 0. 0. 0. 0. 0. 0.\n",
      " 0. 0. 0. 0. 0. 0. 0. 0. 0. 0. 0. 0. 0. 0. 0. 0. 0. 0. 0. 0. 0. 0. 0. 0.\n",
      " 0. 0. 0. 0.]\n"
     ]
    }
   ],
   "source": [
    "a=tf.zeros((100,))\n",
    "print(tfs.run(a))"
   ]
  },
  {
   "cell_type": "markdown",
   "metadata": {},
   "source": [
    "##  Populating tensor elements with the same values\n",
    "\n",
    "tf.zeros( shape,dtype=tf.float32, name=None)\n",
    "\n",
    "Creates a tensor of the provided shape, with all elements set to zero\n",
    "\n",
    "tf.zero_like(tensor, dtype = tf.float32, name = None) \n",
    "\n",
    "Create a tensor of the provided shape from a tensor other, and all elenments set to zero\n",
    "\n",
    "Besides, we can init a tensor with all elements set to one. It is the same zero but change zeros by one\n",
    "\n",
    "\n",
    "\n"
   ]
  },
  {
   "cell_type": "markdown",
   "metadata": {},
   "source": [
    "## Populating tensor elements with sequences\n",
    "\n",
    "tf.lin_space( start, stop, num, name)\n",
    "\n",
    "Creat 1-D tensor from a sequence of num numbers within the range [start, stop]. The tensor has the same data type as the\n",
    "start argument.\n",
    "\n",
    "For example, a = tf.lin_space(1,100,10) generates a tensor with\n",
    "values [1,12,23,34,45,56,67,78,89,100].\n",
    "\n"
   ]
  },
  {
   "cell_type": "code",
   "execution_count": 25,
   "metadata": {},
   "outputs": [
    {
     "name": "stdout",
     "output_type": "stream",
     "text": [
      "[name: \"/device:CPU:0\"\n",
      "device_type: \"CPU\"\n",
      "memory_limit: 268435456\n",
      "locality {\n",
      "}\n",
      "incarnation: 6513698884167604651\n",
      "]\n"
     ]
    }
   ],
   "source": [
    "from tensorflow.python.client import device_lib\n",
    "print(device_lib.list_local_devices())\n"
   ]
  },
  {
   "cell_type": "code",
   "execution_count": 55,
   "metadata": {},
   "outputs": [
    {
     "name": "stdout",
     "output_type": "stream",
     "text": [
      "output  [0.         0.3        0.6        0.90000004]\n"
     ]
    }
   ],
   "source": [
    "tf.reset_default_graph ()\n",
    "# Define model parameters\n",
    "w = tf.Variable( [ .3 ] , tf.float32)\n",
    "\n",
    "b = tf.Variable ([-.3] , tf.float32)\n",
    "# Define model input and output\n",
    "x = tf.placeholder(tf.float32)\n",
    "y = w*x + b\n",
    "config = tf.ConfigProto()\n",
    "config.log_device_placement=True\n",
    "with tf.Session(config=config) as tfs:\n",
    "    # initialize and print the variable y\n",
    "    tf.global_variables_initializer().run()\n",
    "    print('output ', tfs.run(y, {x : [1, 2, 3, 4] }))"
   ]
  },
  {
   "cell_type": "code",
   "execution_count": 53,
   "metadata": {},
   "outputs": [
    {
     "name": "stdout",
     "output_type": "stream",
     "text": [
      "[40 45 50]\n"
     ]
    }
   ],
   "source": [
    "import tensorflow as tf\n",
    "\n",
    "\n",
    "x = tf.constant([35, 40, 45], name='x')\n",
    "y = tf.Variable(x + 5, name='y')\n",
    "\n",
    "\n",
    "model = tf.global_variables_initializer()\n",
    "\n",
    "with tf.Session() as session:\n",
    "    session.run(model)\n",
    "    print(session.run(y))"
   ]
  },
  {
   "cell_type": "code",
   "execution_count": 51,
   "metadata": {},
   "outputs": [
    {
     "name": "stdout",
     "output_type": "stream",
     "text": [
      "1\n",
      "2\n",
      "3\n",
      "4\n",
      "5\n"
     ]
    }
   ],
   "source": [
    "import tensorflow as tf\n",
    "\n",
    "\n",
    "x = tf.Variable(0, name='x')\n",
    "\n",
    "model = tf.global_variables_initializer()\n",
    "\n",
    "with tf.Session() as session:\n",
    "    session.run(model)\n",
    "    for i in range(5):\n",
    "        x = x + 1\n",
    "        print(session.run(x))"
   ]
  },
  {
   "cell_type": "code",
   "execution_count": 68,
   "metadata": {},
   "outputs": [
    {
     "name": "stdout",
     "output_type": "stream",
     "text": [
      "output  [0.         0.3        0.6        0.90000004]\n"
     ]
    }
   ],
   "source": [
    "tf.reset_default_graph()\n",
    "with tf.device('/device:CPU:0') :\n",
    "# Define model parameters\n",
    "    w = tf.get_variable(name='w', initializer= [.3], dtype= tf.float32 )\n",
    "    b = tf.get_variable (name='b', initializer=[-.3], dtype=tf.float32)\n",
    "#Define model input and output\n",
    "    x = tf.placeholder (name='x', dtype=tf.float32) \n",
    "    y = w * x + b\n",
    "config = tf.ConfigProto ()\n",
    "config.log_device_placement=True\n",
    "with tf.Session(config=config) as tfs:\n",
    "# initialize and print the variable y\n",
    "    tfs.run(tf.global_variables_initializer() )\n",
    "    print ('output ', tfs.run(y, {x : [1, 2, 3, 4]}))\n"
   ]
  },
  {
   "cell_type": "code",
   "execution_count": 69,
   "metadata": {},
   "outputs": [
    {
     "data": {
      "text/plain": [
       "<function tensorflow.contrib.learn.python.learn.estimators.logistic_regressor.LogisticRegressor(model_fn, thresholds=None, model_dir=None, config=None, feature_engineering_fn=None)>"
      ]
     },
     "execution_count": 69,
     "metadata": {},
     "output_type": "execute_result"
    }
   ],
   "source": [
    "tf.contrib.learn.KMeansClustering\n",
    "tf.contrib.learn.DNNClassifier\n",
    "tf.contrib.learn.DNNRegressor\n",
    "tf.contrib.learn.DNNLinearCombinedRegressor\n",
    "tf.contrib.learn.DNNLinearCombinedClassifier\n",
    "tf.contrib.learn.LinearClassifier\n",
    "tf.contrib.learn.LinearRegressor\n",
    "tf.contrib.learn.LogisticRegressor\n"
   ]
  },
  {
   "cell_type": "code",
   "execution_count": null,
   "metadata": {},
   "outputs": [],
   "source": []
  }
 ],
 "metadata": {
  "kernelspec": {
   "display_name": "Python 3",
   "language": "python",
   "name": "python3"
  },
  "language_info": {
   "codemirror_mode": {
    "name": "ipython",
    "version": 3
   },
   "file_extension": ".py",
   "mimetype": "text/x-python",
   "name": "python",
   "nbconvert_exporter": "python",
   "pygments_lexer": "ipython3",
   "version": "3.6.7"
  }
 },
 "nbformat": 4,
 "nbformat_minor": 2
}
