{
 "cells": [
  {
   "cell_type": "markdown",
   "metadata": {},
   "source": [
    "Import các thư viện cần sử dụng.\n",
    "\n",
    "sklearn để sử dụng thuật toán SVM\n",
    "\n",
    "cv2 để xử lí ảnh\n",
    "\n",
    "os, np để đọc file và tính toán trên các mảng dữ liệu"
   ]
  },
  {
   "cell_type": "code",
   "execution_count": 1,
   "metadata": {},
   "outputs": [],
   "source": [
    "from sklearn.svm import LinearSVC\n",
    "from skimage import exposure\n",
    "from skimage import feature\n",
    "import argparse\n",
    "import cv2\n",
    "import imutils\n",
    "from imutils import paths\n",
    "import os\n",
    "import numpy as np"
   ]
  },
  {
   "cell_type": "code",
   "execution_count": 2,
   "metadata": {},
   "outputs": [
    {
     "name": "stdout",
     "output_type": "stream",
     "text": [
      "Extracting features...\n"
     ]
    }
   ],
   "source": [
    "print(\"Extracting features...\")\n",
    "data = []\n",
    "labels = []"
   ]
  },
  {
   "cell_type": "code",
   "execution_count": 3,
   "metadata": {},
   "outputs": [],
   "source": [
    "def load_images_from_folder(folder):\n",
    "    images = []\n",
    "    for filename in os.listdir(folder):\n",
    "        img = cv2.imread(os.path.join(folder,filename))\n",
    "        if img is not None:\n",
    "            images.append(img)\n",
    "    return images"
   ]
  },
  {
   "cell_type": "code",
   "execution_count": 4,
   "metadata": {},
   "outputs": [
    {
     "name": "stdout",
     "output_type": "stream",
     "text": [
      "Number of photos are face :  178\n"
     ]
    },
    {
     "data": {
      "text/plain": [
       "-1"
      ]
     },
     "execution_count": 4,
     "metadata": {},
     "output_type": "execute_result"
    }
   ],
   "source": [
    "img_person = load_images_from_folder(\"is_Face\")\n",
    "print(\"Number of photos are face : \",len(img_person))\n",
    "sample = img_person[2]\n",
    "cv2.imshow(\"No_name\", sample)\n",
    "cv2.waitKey(0)"
   ]
  },
  {
   "cell_type": "code",
   "execution_count": 5,
   "metadata": {},
   "outputs": [
    {
     "name": "stdout",
     "output_type": "stream",
     "text": [
      "Number of photos are not face :  130\n"
     ]
    },
    {
     "data": {
      "text/plain": [
       "-1"
      ]
     },
     "execution_count": 5,
     "metadata": {},
     "output_type": "execute_result"
    }
   ],
   "source": [
    "img_not_person = load_images_from_folder(\"not_Face\")\n",
    "print(\"Number of photos are not face : \",len(img_not_person))\n",
    "sample = img_not_person[2]\n",
    "cv2.imshow(\"No_name\", sample)\n",
    "cv2.waitKey(0)"
   ]
  },
  {
   "cell_type": "code",
   "execution_count": 6,
   "metadata": {},
   "outputs": [],
   "source": [
    "for image in img_not_person:\n",
    "    gray = cv2.cvtColor(image, cv2.COLOR_BGR2GRAY)\n",
    "    img_resize = cv2.resize(gray, (150,150))\n",
    "    H, hogImage = feature.hog(img_resize, orientations=9, pixels_per_cell=(10,10), cells_per_block=(2,2), transform_sqrt=True, block_norm=\"L1\", visualize=True)\n",
    "    data.append(H)\n",
    "    labels.append(0)\n",
    "for image in img_person:\n",
    "    gray = cv2.cvtColor(image, cv2.COLOR_BGR2GRAY)\n",
    "    img_resize = cv2.resize(gray, (150,150))\n",
    "    H, hogImage = feature.hog(img_resize, orientations=9, pixels_per_cell=(10,10), cells_per_block=(2,2), transform_sqrt=True, block_norm=\"L1\", visualize=True)\n",
    "    data.append(H)\n",
    "    labels.append(1)"
   ]
  },
  {
   "cell_type": "code",
   "execution_count": 7,
   "metadata": {},
   "outputs": [
    {
     "name": "stdout",
     "output_type": "stream",
     "text": [
      "Size of data to train :  (308, 7056)\n",
      "Size of labels to train :  (308,)\n"
     ]
    }
   ],
   "source": [
    "data = np.asanyarray(data)\n",
    "labels = np.asanyarray(labels)\n",
    "print(\"Size of data to train : \",data.shape)\n",
    "print(\"Size of labels to train : \", labels.shape)"
   ]
  },
  {
   "cell_type": "markdown",
   "metadata": {},
   "source": [
    "Bây giờ chúng ta tạo model với thuật toán SVM cho bộ dữ liệu trên.\n",
    "\n"
   ]
  },
  {
   "cell_type": "code",
   "execution_count": 8,
   "metadata": {},
   "outputs": [
    {
     "name": "stdout",
     "output_type": "stream",
     "text": [
      "Training classifier...\n",
      "Evaluting...\n"
     ]
    }
   ],
   "source": [
    "print(\"Training classifier...\")\n",
    "model = LinearSVC()\n",
    "model.fit(data, labels)\n",
    "print(\"Evaluting...\")"
   ]
  },
  {
   "cell_type": "code",
   "execution_count": 9,
   "metadata": {},
   "outputs": [
    {
     "name": "stderr",
     "output_type": "stream",
     "text": [
      "C:\\Users\\trung\\Anaconda3\\lib\\site-packages\\sklearn\\svm\\base.py:196: FutureWarning: The default value of gamma will change from 'auto' to 'scale' in version 0.22 to account better for unscaled features. Set gamma explicitly to 'auto' or 'scale' to avoid this warning.\n",
      "  \"avoid this warning.\", FutureWarning)\n"
     ]
    },
    {
     "name": "stdout",
     "output_type": "stream",
     "text": [
      "Xac xuat sử dụng thư viện : 57.79 %\n"
     ]
    }
   ],
   "source": [
    "from sklearn import svm\n",
    "clf = svm.SVC().fit(data, labels)\n",
    "y_pred = clf.predict(data)\n",
    "from sklearn.metrics import accuracy_score\n",
    "print (\"Xac xuat sử dụng thư viện : %.2f %%\" %(100*accuracy_score(labels, y_pred.tolist())) )"
   ]
  },
  {
   "cell_type": "code",
   "execution_count": 10,
   "metadata": {},
   "outputs": [
    {
     "name": "stdout",
     "output_type": "stream",
     "text": [
      "Xac xuat sử dụng thư viện : 100.00 %\n"
     ]
    }
   ],
   "source": [
    "y_pred = model.predict(data)\n",
    "from sklearn.metrics import accuracy_score\n",
    "print (\"Xac xuat sử dụng thư viện : %.2f %%\" %(100*accuracy_score(labels, y_pred.tolist())) )"
   ]
  },
  {
   "cell_type": "markdown",
   "metadata": {},
   "source": [
    "Chúng tau thử qua với 2 model khác nhau của SVM tau sử dụng model đầu với độ chính xác cao hơn.\n"
   ]
  },
  {
   "cell_type": "markdown",
   "metadata": {},
   "source": [
    "Bước tiếp theo bây giờ khi import một ảnh mới vào chúng ta cần làm : \n",
    "+ Sử dụng tập các của số trượt có kích thước khác nhau để trượt lên bức ảnh từ trái sang phải từ trên xuống dưới.\n",
    "+ Với mỗi cửa số trượt như vậy ta thu được một hình ảnh chúng tau resize kích thước ảnh đó theo đúng kích thước của dữ liệu train\n",
    "+ Lấy đặc trưng HOG của ảnh và sau đó cho model xử lí xem nó có đúng hay không.\n",
    "+ Nếu đúng thì chúng ta vẽ bao quanh khu vực đó lại.\n"
   ]
  },
  {
   "cell_type": "code",
   "execution_count": 11,
   "metadata": {},
   "outputs": [],
   "source": [
    "test = cv2.imread(\"hai.jpg\")\n",
    "gray = cv2.cvtColor(test, cv2.COLOR_BGR2GRAY)"
   ]
  },
  {
   "cell_type": "code",
   "execution_count": 12,
   "metadata": {},
   "outputs": [
    {
     "name": "stdout",
     "output_type": "stream",
     "text": [
      "[1]\n"
     ]
    }
   ],
   "source": [
    "test = cv2.resize(test, (150,150))\n",
    "H, hogImage = feature.hog(test, orientations=9, pixels_per_cell=(10,10), cells_per_block=(2,2), \n",
    "                          transform_sqrt=True, block_norm=\"L1\", visualize=True)\n",
    "predict = model.predict(H.reshape(1,-1))\n",
    "print(predict)\n"
   ]
  },
  {
   "cell_type": "markdown",
   "metadata": {},
   "source": [
    "Quan sát bức ảnh test tôi thấy ảnh hơi chênh sáng giữa các vừng sáng tối nên tôi quyết định cân bằng lại độ tương phản và ánh sáng của bức ảnh. Rất may việc đó đã được thực hiện trong thư viện Open CV."
   ]
  },
  {
   "cell_type": "code",
   "execution_count": 54,
   "metadata": {},
   "outputs": [
    {
     "data": {
      "text/plain": [
       "-1"
      ]
     },
     "execution_count": 54,
     "metadata": {},
     "output_type": "execute_result"
    }
   ],
   "source": [
    "img_test = cv2.imread(\"Test\\sample_test.jpeg\")\n",
    "image_resize_test = cv2.resize(img_test, (800,500))\n",
    "orig_img = image_resize_test.copy()\n",
    "cv2.imshow(\"equals\", image_resize_test)\n",
    "cv2.waitKey(0)"
   ]
  },
  {
   "cell_type": "markdown",
   "metadata": {},
   "source": [
    "Chúng ta sẽ làm việc với ảnh có size = (500, 700) pixel tìm và vẽ hình vuông cho vị trí có phát hiện khuôn mặt.\n",
    "\n",
    "Tạo một số cửa số trượt có kích thước khác nhau để rò tìm từng vị trí"
   ]
  },
  {
   "cell_type": "markdown",
   "metadata": {},
   "source": [
    "Trong Open CV hàm vẽ hình chữ nhật là cv2.rectangle()\n",
    "\n",
    "các tham số trong đó bao gồm :\n",
    "    + Vẽ trên một ảnh nào ( background)\n",
    "    + Tọa độ của góc trên cùng bên trái\n",
    "    + Tọa độ của góc dưới cùng bên phải \n",
    "    + Màu sắc (kênh RGB)\n",
    "    + Kích thước của viền.\n",
    "\n",
    "Nên tôi chỉ dùng độ dài đường chéo đặc trưng cho mỗi của sổ trượt.\n"
   ]
  },
  {
   "cell_type": "code",
   "execution_count": 55,
   "metadata": {},
   "outputs": [
    {
     "name": "stdout",
     "output_type": "stream",
     "text": [
      "(500, 800, 3)\n"
     ]
    }
   ],
   "source": [
    "print(image_resize_test.shape)\n",
    "sliding_window = [70] # chúng ta nên để một vài giá trị này để phát hiện đối tượng với kích thước khác nhau\n",
    "poss = []\n",
    "stride = 10"
   ]
  },
  {
   "cell_type": "markdown",
   "metadata": {},
   "source": [
    "Mỗi bức ảnh nếu chiếu theo hệ trục Oxy:\n",
    "    + Gốc tọa độ tại góc trên cùng bên trái\n",
    "    + Chiều dương Ox từ trái sáng phải\n",
    "    + Chiều dường 0y từ trên xuống dưới."
   ]
  },
  {
   "cell_type": "code",
   "execution_count": 50,
   "metadata": {},
   "outputs": [],
   "source": [
    "def draw_border(x0, y0, d, img):\n",
    "    cv2.rectangle(img, (x0,y0), (x0+d,y0+d), (0,0,255), 2)\n",
    "    "
   ]
  },
  {
   "cell_type": "code",
   "execution_count": 56,
   "metadata": {},
   "outputs": [
    {
     "name": "stdout",
     "output_type": "stream",
     "text": [
      "Number sliding windown :  3650\n",
      "Posstion exact :  [[340, 30, 410, 100], [340, 40, 410, 110], [340, 90, 410, 160], [340, 100, 410, 170], [340, 110, 410, 180], [280, 180, 350, 250], [460, 180, 530, 250], [470, 180, 540, 250], [380, 190, 450, 260], [390, 190, 460, 260], [470, 190, 540, 260], [200, 200, 270, 270], [200, 210, 270, 280]]\n"
     ]
    }
   ],
   "source": [
    "img_paint = image_resize_test\n",
    "x = 0\n",
    "y = 0\n",
    "d = 0\n",
    "for denta in sliding_window:\n",
    "    y = 0\n",
    "    while y < image_resize_test.shape[0] :\n",
    "        x = 0\n",
    "        while x < image_resize_test.shape[1] :\n",
    "            \n",
    "            if x + denta < image_resize_test.shape[1]:\n",
    "                d = d+1\n",
    "                cut_img = image_resize_test[y : y + denta, x: x + denta]\n",
    "                save_img = image_resize_test[y : y + denta, x: x + denta]\n",
    "                cut_img_resize = cv2.resize(cut_img, (150,150))\n",
    "                gray = cv2.cvtColor(cut_img_resize, cv2.COLOR_BGR2GRAY)\n",
    "                H, hogImage = feature.hog(gray, orientations=9, pixels_per_cell=(10,10), cells_per_block=(2,2), \n",
    "                          transform_sqrt=True, block_norm=\"L1\", visualize=True)\n",
    "                pred = model.predict(H.reshape(1,-1))[0]\n",
    "                \n",
    "                if(pred == 1):\n",
    "                    name = 'Save'\n",
    "                    name = name + \"\\s\" + str(d) + \".jpg\";\n",
    "                    # cv2.imwrite(name, save_img)\n",
    "                    # draw_border(x, y, denta, img_paint)\n",
    "                    poss.append([x, y , x + denta,  y + denta])\n",
    "                    \n",
    "            x = x + stride\n",
    "        y = y + stride\n",
    "cv2.imshow(\"result\",img_paint)\n",
    "cv2.waitKey(0)\n",
    "print(\"Number sliding windown : \", d)\n",
    "print(\"Posstion exact : \",poss)"
   ]
  },
  {
   "cell_type": "markdown",
   "metadata": {},
   "source": [
    "Chúng ta thấy có nhiều khu vực nhận dạng bởi các cửa số trùng lên nhau chúng ta cần chọn ra một cửa sổ tối ưu nhất cho việc phát hiện đối tượng. Tiếp tục chúng ta dùng thuật toán Non-Maximum Suppression for Object Detection.\n",
    "\n",
    "Tất cả vị trí các khu vực phát hiện đã được lưu trong mảng poss chúng."
   ]
  },
  {
   "cell_type": "code",
   "execution_count": 57,
   "metadata": {},
   "outputs": [],
   "source": [
    "def non_maxium_suppression(boxes, overlapThresh):\n",
    "    \n",
    "    if len(boxes) == 0:\n",
    "        return []\n",
    "    pick = []\n",
    "    \n",
    "    x1 = boxes[:,0]\n",
    "    y1 = boxes[:,1]\n",
    "    x2 = boxes[:,2]\n",
    "    y2 = boxes[:,3]\n",
    "    print(\"x1 : \", x1)\n",
    "    print(\"y1 : \", y1)\n",
    "    print(\"x2 : \", x2)\n",
    "    print(\"y2 : \", y2)\n",
    "    \n",
    "    area = (x2 - x1 +1) * (y2 - y1 + 1) # diện tích của các hộp ( dài * rộng)\n",
    "    \n",
    "    print(\"area : \", area)\n",
    "    idxs = np.argsort(y2) \n",
    "    \n",
    "    print(\"idxs : \", idxs)\n",
    "    while len(idxs) > 0:\n",
    "         \n",
    "        #lặp qua các tất cả các hộp    \n",
    "        last = len(idxs) - 1\n",
    "        i = idxs[last]\n",
    "        # lấy hộp dưới cùng do đã sắp xếp \n",
    "        pick.append(i)  # lấy i\n",
    "        suppress = [last]\n",
    "        print(\"pick : \", pick)\n",
    "        print(\"suppress : \", suppress)\n",
    "        # loop over all indexes in the indexes list\n",
    "        for pos in range(0, last):\n",
    "            # grab the current index\n",
    "            j = idxs[pos]\n",
    " \n",
    "            # find the largest (x, y) coordinates for the start of\n",
    "            # the bounding box and the smallest (x, y) coordinates\n",
    "            # for the end of the bounding box\n",
    "            xx1 = max(x1[i], x1[j])\n",
    "            yy1 = max(y1[i], y1[j])\n",
    "            xx2 = min(x2[i], x2[j])\n",
    "            yy2 = min(y2[i], y2[j])\n",
    " \n",
    "            # compute the width and height of the bounding box\n",
    "            w = max(0, xx2 - xx1 + 1)\n",
    "            h = max(0, yy2 - yy1 + 1)\n",
    " \n",
    "            # compute the ratio of overlap between the computed\n",
    "            # bounding box and the bounding box in the area list\n",
    "            overlap = float(w * h) / area[j]\n",
    " \n",
    "                # if there is sufficient overlap, suppress the\n",
    "                # current bounding box\n",
    "            if overlap > overlapThresh:\n",
    "                suppress.append(pos)\n",
    " \n",
    "            # delete all indexes from the index list that are in the\n",
    "            # suppression list\n",
    "        idxs = np.delete(idxs, suppress)\n",
    "        print(\"idxs : \", idxs)\n",
    "        # return only the bounding boxes that were picked\n",
    "    return boxes[pick]"
   ]
  },
  {
   "cell_type": "code",
   "execution_count": 58,
   "metadata": {},
   "outputs": [
    {
     "name": "stdout",
     "output_type": "stream",
     "text": [
      "x1 :  [340 340 340 340 340 280 460 470 380 390 470 200 200]\n",
      "y1 :  [ 30  40  90 100 110 180 180 180 190 190 190 200 210]\n",
      "x2 :  [410 410 410 410 410 350 530 540 450 460 540 270 270]\n",
      "y2 :  [100 110 160 170 180 250 250 250 260 260 260 270 280]\n",
      "area :  [5041 5041 5041 5041 5041 5041 5041 5041 5041 5041 5041 5041 5041]\n",
      "idxs :  [ 0  1  2  3  4  5  6  7  8  9 10 11 12]\n",
      "pick :  [12]\n",
      "suppress :  [12]\n",
      "idxs :  [ 0  1  2  3  4  5  6  7  8  9 10]\n",
      "pick :  [12, 10]\n",
      "suppress :  [10]\n",
      "idxs :  [0 1 2 3 4 5 8 9]\n",
      "pick :  [12, 10, 9]\n",
      "suppress :  [7]\n",
      "idxs :  [0 1 2 3 4 5]\n",
      "pick :  [12, 10, 9, 5]\n",
      "suppress :  [5]\n",
      "idxs :  [0 1 2 3 4]\n",
      "pick :  [12, 10, 9, 5, 4]\n",
      "suppress :  [4]\n",
      "idxs :  [0 1]\n",
      "pick :  [12, 10, 9, 5, 4, 1]\n",
      "suppress :  [1]\n",
      "idxs :  []\n"
     ]
    },
    {
     "data": {
      "text/plain": [
       "-1"
      ]
     },
     "execution_count": 58,
     "metadata": {},
     "output_type": "execute_result"
    }
   ],
   "source": [
    "poss = np.asanyarray(poss)\n",
    "for [startX, startY, endX, endY] in poss:\n",
    "    cv2.rectangle(orig_img, (startX, startY), (endX, endY), (0, 0, 255), 2)\n",
    "result = non_maxium_suppression(poss, 0.3)    \n",
    "for [startX, startY, endX, endY] in result:\n",
    "    cv2.rectangle(image_resize_test, (startX, startY), (endX, endY), (0, 255, 0), 2)    \n",
    "cv2.imshow(\"Original\", orig_img)\n",
    "cv2.imshow(\"After NMS\", image_resize_test)\n",
    "cv2.waitKey(0)"
   ]
  },
  {
   "cell_type": "markdown",
   "metadata": {},
   "source": [
    "Lưu kết quả vào mục Result\n"
   ]
  },
  {
   "cell_type": "code",
   "execution_count": 59,
   "metadata": {},
   "outputs": [
    {
     "data": {
      "text/plain": [
       "True"
      ]
     },
     "execution_count": 59,
     "metadata": {},
     "output_type": "execute_result"
    }
   ],
   "source": [
    "cv2.imwrite(\"Result\\Original.jpg\",orig_img)\n",
    "cv2.imwrite(\"Result\\After_NMS.jpg\",image_resize_test)\n",
    "cv2.destroyWindow()"
   ]
  },
  {
   "cell_type": "code",
   "execution_count": null,
   "metadata": {},
   "outputs": [],
   "source": []
  }
 ],
 "metadata": {
  "kernelspec": {
   "display_name": "Python 3",
   "language": "python",
   "name": "python3"
  },
  "language_info": {
   "codemirror_mode": {
    "name": "ipython",
    "version": 3
   },
   "file_extension": ".py",
   "mimetype": "text/x-python",
   "name": "python",
   "nbconvert_exporter": "python",
   "pygments_lexer": "ipython3",
   "version": "3.6.7"
  }
 },
 "nbformat": 4,
 "nbformat_minor": 2
}
